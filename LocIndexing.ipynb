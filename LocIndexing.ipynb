{
 "cells": [
  {
   "cell_type": "code",
   "execution_count": 1,
   "id": "53c48e85",
   "metadata": {},
   "outputs": [],
   "source": [
    "from pandas import MultiIndex, DataFrame, Series, IndexSlice, Index\n",
    "import numpy as np\n",
    "import time\n",
    "ix = IndexSlice"
   ]
  },
  {
   "cell_type": "markdown",
   "id": "b4f5211b",
   "metadata": {},
   "source": [
    "# Pandas Indexing with `.loc` and `.reindex`\n",
    "\n",
    "Using **indexes** to subselect data via rows or columns is a very powerful feature of pandas and it is worth learning what an **index** is and how it can be utilised for optimal effect.\n",
    "\n",
    "`.loc` is a flexible indexer for DataFrames and Series, operable either on the index or columns (in a DataFrame) or both simultaneously, although the simultaneous case necessarily requires **only a basic intersection (separable with a comma)**, so, without loss of generality, we can describe many of the features as they apply to an index of a Series. See below for some very basic, simple examples."
   ]
  },
  {
   "cell_type": "markdown",
   "id": "d8049f64",
   "metadata": {},
   "source": [
    "#### Series"
   ]
  },
  {
   "cell_type": "code",
   "execution_count": 2,
   "id": "765b1e3d",
   "metadata": {},
   "outputs": [
    {
     "data": {
      "text/plain": [
       "a    1\n",
       "b    2\n",
       "c    3\n",
       "Name: example, dtype: int64"
      ]
     },
     "execution_count": 2,
     "metadata": {},
     "output_type": "execute_result"
    }
   ],
   "source": [
    "ser = Series([1,2,3], index=[\"a\", \"b\", \"c\"], name=\"example\")\n",
    "ser"
   ]
  },
  {
   "cell_type": "code",
   "execution_count": 3,
   "id": "368db903",
   "metadata": {},
   "outputs": [
    {
     "data": {
      "text/plain": [
       "1"
      ]
     },
     "execution_count": 3,
     "metadata": {},
     "output_type": "execute_result"
    }
   ],
   "source": [
    "ser.loc[\"a\"]"
   ]
  },
  {
   "cell_type": "code",
   "execution_count": 4,
   "id": "cfcbca44",
   "metadata": {},
   "outputs": [
    {
     "data": {
      "text/plain": [
       "a    1\n",
       "b    2\n",
       "Name: example, dtype: int64"
      ]
     },
     "execution_count": 4,
     "metadata": {},
     "output_type": "execute_result"
    }
   ],
   "source": [
    "ser.loc[[\"a\", \"b\"]]"
   ]
  },
  {
   "cell_type": "markdown",
   "id": "e5a7804a",
   "metadata": {},
   "source": [
    "#### DataFrames"
   ]
  },
  {
   "cell_type": "code",
   "execution_count": 5,
   "id": "aa4dbbb1",
   "metadata": {},
   "outputs": [
    {
     "data": {
      "text/html": [
       "<div>\n",
       "<style scoped>\n",
       "    .dataframe tbody tr th:only-of-type {\n",
       "        vertical-align: middle;\n",
       "    }\n",
       "\n",
       "    .dataframe tbody tr th {\n",
       "        vertical-align: top;\n",
       "    }\n",
       "\n",
       "    .dataframe thead th {\n",
       "        text-align: right;\n",
       "    }\n",
       "</style>\n",
       "<table border=\"1\" class=\"dataframe\">\n",
       "  <thead>\n",
       "    <tr style=\"text-align: right;\">\n",
       "      <th></th>\n",
       "      <th>A</th>\n",
       "      <th>B</th>\n",
       "      <th>C</th>\n",
       "    </tr>\n",
       "  </thead>\n",
       "  <tbody>\n",
       "    <tr>\n",
       "      <th>a</th>\n",
       "      <td>1</td>\n",
       "      <td>2</td>\n",
       "      <td>3</td>\n",
       "    </tr>\n",
       "    <tr>\n",
       "      <th>b</th>\n",
       "      <td>4</td>\n",
       "      <td>5</td>\n",
       "      <td>6</td>\n",
       "    </tr>\n",
       "    <tr>\n",
       "      <th>c</th>\n",
       "      <td>7</td>\n",
       "      <td>8</td>\n",
       "      <td>9</td>\n",
       "    </tr>\n",
       "  </tbody>\n",
       "</table>\n",
       "</div>"
      ],
      "text/plain": [
       "   A  B  C\n",
       "a  1  2  3\n",
       "b  4  5  6\n",
       "c  7  8  9"
      ]
     },
     "execution_count": 5,
     "metadata": {},
     "output_type": "execute_result"
    }
   ],
   "source": [
    "df = DataFrame([[1,2,3], [4,5,6], [7,8,9]], index=[\"a\", \"b\", \"c\"], columns=[\"A\", \"B\", \"C\"])\n",
    "df"
   ]
  },
  {
   "cell_type": "code",
   "execution_count": 6,
   "id": "3c7d1ea7",
   "metadata": {},
   "outputs": [
    {
     "data": {
      "text/plain": [
       "A    1\n",
       "B    2\n",
       "C    3\n",
       "Name: a, dtype: int64"
      ]
     },
     "execution_count": 6,
     "metadata": {},
     "output_type": "execute_result"
    }
   ],
   "source": [
    "df.loc[\"a\"]"
   ]
  },
  {
   "cell_type": "code",
   "execution_count": 7,
   "id": "2561c8b1",
   "metadata": {},
   "outputs": [
    {
     "data": {
      "text/plain": [
       "1"
      ]
     },
     "execution_count": 7,
     "metadata": {},
     "output_type": "execute_result"
    }
   ],
   "source": [
    "df.loc[\"a\", \"A\"]"
   ]
  },
  {
   "cell_type": "code",
   "execution_count": 8,
   "id": "7dcdbbf5",
   "metadata": {},
   "outputs": [
    {
     "data": {
      "text/html": [
       "<div>\n",
       "<style scoped>\n",
       "    .dataframe tbody tr th:only-of-type {\n",
       "        vertical-align: middle;\n",
       "    }\n",
       "\n",
       "    .dataframe tbody tr th {\n",
       "        vertical-align: top;\n",
       "    }\n",
       "\n",
       "    .dataframe thead th {\n",
       "        text-align: right;\n",
       "    }\n",
       "</style>\n",
       "<table border=\"1\" class=\"dataframe\">\n",
       "  <thead>\n",
       "    <tr style=\"text-align: right;\">\n",
       "      <th></th>\n",
       "      <th>A</th>\n",
       "      <th>B</th>\n",
       "    </tr>\n",
       "  </thead>\n",
       "  <tbody>\n",
       "    <tr>\n",
       "      <th>a</th>\n",
       "      <td>1</td>\n",
       "      <td>2</td>\n",
       "    </tr>\n",
       "    <tr>\n",
       "      <th>b</th>\n",
       "      <td>4</td>\n",
       "      <td>5</td>\n",
       "    </tr>\n",
       "  </tbody>\n",
       "</table>\n",
       "</div>"
      ],
      "text/plain": [
       "   A  B\n",
       "a  1  2\n",
       "b  4  5"
      ]
     },
     "execution_count": 8,
     "metadata": {},
     "output_type": "execute_result"
    }
   ],
   "source": [
    "df.loc[[\"a\", \"b\"], [\"A\", \"B\"]]"
   ]
  },
  {
   "cell_type": "markdown",
   "id": "10afbfea",
   "metadata": {},
   "source": [
    "## What is an Index?\n",
    "\n",
    "Let's get to grips with the core structure of an **index**.\n",
    "\n",
    "An `Index` is a **sequence** of defined `keys` (alternatively called `labels`).\n",
    "There are **four** categories of index based on the properties it might have."
   ]
  },
  {
   "cell_type": "code",
   "execution_count": 9,
   "id": "2e912cd3",
   "metadata": {
    "nbsphinx": "hidden"
   },
   "outputs": [],
   "source": [
    "# HIDDEN notebook cell\n",
    "idx = Index([\"Unique\", \"Duplicated (Non-Unique)\"], name=\"Key Values\")\n",
    "col = Index([\"Monotonic\", \"Unsorted (Non-Monotonic)\"], name=\"Key Sorting\")\n",
    "df = DataFrame([[\"All features available\", \"Certain features unavailable\"], [\"Certain features unavailable\", \"Least number supported features\"]], index=idx, columns=col)\n",
    "table = df.style"
   ]
  },
  {
   "cell_type": "code",
   "execution_count": 10,
   "id": "9215a375",
   "metadata": {},
   "outputs": [
    {
     "data": {
      "text/html": [
       "<style type=\"text/css\">\n",
       "</style>\n",
       "<table id=\"T_b1d2f_\">\n",
       "  <thead>\n",
       "    <tr>\n",
       "      <th class=\"index_name level0\" >Key Sorting</th>\n",
       "      <th class=\"col_heading level0 col0\" >Monotonic</th>\n",
       "      <th class=\"col_heading level0 col1\" >Unsorted (Non-Monotonic)</th>\n",
       "    </tr>\n",
       "    <tr>\n",
       "      <th class=\"index_name level0\" >Key Values</th>\n",
       "      <th class=\"blank col0\" >&nbsp;</th>\n",
       "      <th class=\"blank col1\" >&nbsp;</th>\n",
       "    </tr>\n",
       "  </thead>\n",
       "  <tbody>\n",
       "    <tr>\n",
       "      <th id=\"T_b1d2f_level0_row0\" class=\"row_heading level0 row0\" >Unique</th>\n",
       "      <td id=\"T_b1d2f_row0_col0\" class=\"data row0 col0\" >All features available</td>\n",
       "      <td id=\"T_b1d2f_row0_col1\" class=\"data row0 col1\" >Certain features unavailable</td>\n",
       "    </tr>\n",
       "    <tr>\n",
       "      <th id=\"T_b1d2f_level0_row1\" class=\"row_heading level0 row1\" >Duplicated (Non-Unique)</th>\n",
       "      <td id=\"T_b1d2f_row1_col0\" class=\"data row1 col0\" >Certain features unavailable</td>\n",
       "      <td id=\"T_b1d2f_row1_col1\" class=\"data row1 col1\" >Least number supported features</td>\n",
       "    </tr>\n",
       "  </tbody>\n",
       "</table>\n"
      ],
      "text/plain": [
       "<pandas.io.formats.style.Styler at 0x118e6a940>"
      ]
     },
     "execution_count": 10,
     "metadata": {},
     "output_type": "execute_result"
    }
   ],
   "source": [
    "table"
   ]
  },
  {
   "cell_type": "markdown",
   "id": "6af2f629",
   "metadata": {},
   "source": [
    " - ``Monotonic`` means all the keys are sorted, whilst unsorted means they can be in any order.\n",
    " - ``Duplicated`` means at least one key is repeated in the index.\n",
    " \n",
    "The following will return a ``KeyError`` since the key location is ambiguous for the duplicated key."
   ]
  },
  {
   "cell_type": "code",
   "execution_count": 11,
   "id": "1a607a5f",
   "metadata": {},
   "outputs": [],
   "source": [
    "ser_unsort = Series([1,2,3,4], index=[\"a\", \"c\", \"b\", \"c\"])\n",
    "# ser_un.loc[ix[\"a\":\"c\"]]  -> KeyError: \"Cannot get right slice bound for non-unique label: 'c'\""
   ]
  },
  {
   "cell_type": "markdown",
   "id": "7e150533",
   "metadata": {},
   "source": [
    "However, an index can be sorted and then a slicer will work."
   ]
  },
  {
   "cell_type": "code",
   "execution_count": 12,
   "id": "c045a207",
   "metadata": {},
   "outputs": [
    {
     "data": {
      "text/plain": [
       "a    1\n",
       "b    3\n",
       "c    2\n",
       "c    4\n",
       "dtype: int64"
      ]
     },
     "execution_count": 12,
     "metadata": {},
     "output_type": "execute_result"
    }
   ],
   "source": [
    "ser_mono = ser_unsort.sort_index()\n",
    "ser_mono.loc[ix[\"a\":\"c\"]]"
   ]
  },
  {
   "cell_type": "markdown",
   "id": "586be0d1",
   "metadata": {},
   "source": [
    "An index is different to a generic column or row since much functionality is constructed around being able to subselect data efficiently, and this depends on those properties of an index.\n",
    "\n",
    "For an `Index` (and, specifically, not a `MultiIndex`) a key will either be contained in the index or not, and this often determines the error reporting upon indexing."
   ]
  },
  {
   "cell_type": "markdown",
   "id": "6a5641d1",
   "metadata": {},
   "source": [
    "## What is a Key (or Label)?\n",
    "\n",
    "Keys of an ``Index`` can be hashable (immutable) objects such as strings, integers, floats, complex, or tuples, but it is always **recommended** to maintain the same dtype or structure to avoid any indexing or sorting issues. Keys cannot be lists, sets or dicts.  "
   ]
  },
  {
   "cell_type": "code",
   "execution_count": 13,
   "id": "9722feb0",
   "metadata": {},
   "outputs": [
    {
     "data": {
      "text/plain": [
       "A         1\n",
       "2         2\n",
       "1.2       3\n",
       "(1+1j)    4\n",
       "(a, 1)    5\n",
       "dtype: int64"
      ]
     },
     "execution_count": 13,
     "metadata": {},
     "output_type": "execute_result"
    }
   ],
   "source": [
    "# Series([1,2,3], index=[[\"a\", 1], {\"a\": 1}, {\"a\", 1}])  # TypeError: unhashable types: 'list', 'dict', 'set'\n",
    "Series([1,2,3,4,5], index=[\"A\", 2, 1.2, 1+1j, (\"a\", 1)])"
   ]
  },
  {
   "cell_type": "markdown",
   "id": "134a943b",
   "metadata": {},
   "source": [
    "## Subselecting Keys in an Index Using `.loc`\n",
    "\n",
    "There are different input formats to use in `.loc` which will result in different output formats.\n",
    "\n",
    " - A single explicit `key`, which may be unique or duplicated: `ser.loc[\"a\"]`\n",
    " - A list of explicit `keys`, again these may be unique or duplicated: `ser.loc[[\"a\", \"b\"]]`\n",
    " - A Python slice (which may fail for **unsorted and duplicated** indexes): `ser.loc[slice(\"a\", \"b\")]`, or equivalently an `IndexSlice` which provides some syntactic sugar: `ser.loc[IndexSlice[\"a\":\"b\"]]`\n",
    " - A colon, ':', which is syntactic sugar for a none slice along a whole axis and returns all values: `ser.loc[:]`\n",
    " - A boolean array-like of the same length of the index determining presence in the output: `ser.loc[[True, True, False]]`\n",
    " \n",
    "Depending which input format is used the output format may be different, for example a `Series` might collapse to a `Scalar` or a `DataFrame` might collapse to a `Series` or even a `Scalar`. Whether or not `keys` are present in the `Index` may also determine whether a `KeyError` is generated.\n",
    "\n",
    "Below we give examples of output formats with different input formats across different index properties."
   ]
  },
  {
   "cell_type": "code",
   "execution_count": 14,
   "id": "03b6e72e",
   "metadata": {
    "nbsphinx": "hidden"
   },
   "outputs": [],
   "source": [
    "# HIDDEN notebook cell\n",
    "\n",
    "ret = None\n",
    "def do(command):\n",
    "    try:\n",
    "        exec(f'global ret; ret={command}', globals())\n",
    "    except KeyError:\n",
    "        return 'KeyError'\n",
    "    except ValueError:\n",
    "        return 'ValueError'\n",
    "    except IndexError:\n",
    "        return 'IndexError'\n",
    "    else:\n",
    "        if isinstance(ret, (np.int64)):\n",
    "            return 'int64'\n",
    "        elif isinstance(ret, (Series)):\n",
    "            if len(ret.index) == 0:\n",
    "                return 'Empty Series'\n",
    "            return 'Series'\n",
    "        elif isinstance(ret, (DataFrame)):\n",
    "            return 'DataFrame'\n",
    "        return 'OtherType'\n",
    "\n",
    "cases = [\n",
    "(\"'a'\", \"single valid, unique key\"),\n",
    "(\"'!'\", \"single invalid key\"), \n",
    "(\"['a']\", \"single valid, unique key as a list of valid keys\"),\n",
    "(\"['!']\", \"single invalid key as a list of invalid keys\"),\n",
    "(\"['a','c']\", \"list of valid, unique keys\"),\n",
    "(\"['a','!']\", \"list containing at least one invalid keys\"),  \n",
    "(\"ix['a':'c']\", \"Slice with valid, unique keys\"),\n",
    "(\"ix['a':'!']\", \"Slice with at least one invalid slice key\"),\n",
    "(\"ix['!':'!!']\", \"Slice with two invalid slice keys\"),\n",
    "(\"'b'\", \"Single valid, duplicated key (in duplicated Index)\"),\n",
    "(\"['b']\", \"Single valid, duplicated key as a list\"),\n",
    "(\"ix['b':'c']\", \"Slice with valid, duplicated keys\"),\n",
    "(\"ix['c':'b']\", \"Slice with valid, duplicated keys reversed\"),\n",
    "(\"[True, True, False, False]\", \"Boolean indexer of right length\"),\n",
    "(\"[True, False]\", \"Boolean indexer of wrong length\")\n",
    "]\n",
    "\n",
    "commands = [f's.loc[{case[0]}]' for case in cases]\n",
    "\n",
    "indexes = [\n",
    "    Index(['a','c','b','d'], name='Unique Unsorted<br>[\"a\",\"c\",\"b\",\"d\"]'),\n",
    "    Index(['a','c','b','d'], name='Unique Monotonic<br>[\"a\",\"b\",\"c\",\"d\"]').sort_values(),\n",
    "    Index(['a','b','c','b'], name='Duplicated Unsorted<br>[\"a\",\"b\",\"c\",\"b\"]'),\n",
    "    Index(['a','c','b','b'], name='Duplicated Monotonic<br>[\"a\",\"b\",\"b\",\"d\"]').sort_values(),\n",
    "]\n",
    "\n",
    "results = DataFrame('', \n",
    "                       index=Index([case[0] for case in cases], name=\"series.loc[{}]\"), \n",
    "                       columns=[index.name for index in indexes]+[\"description\"])\n",
    "results.columns.name = \"Index Properties\"\n",
    "results.loc[:, \"description\"] = [case[1] for case in cases]\n",
    "for j, index in enumerate(indexes):\n",
    "    s = Series([1,2,3,4], index=index)\n",
    "    for i, command in enumerate(commands):\n",
    "        results.iloc[i, j] = do(command)\n",
    "    \n",
    "\n",
    "def color(v):\n",
    "    if v == \"int64\":\n",
    "        return \"color: #33C8FF\"\n",
    "    elif \"Error\" in v:\n",
    "        return \"color: #FF3333\"\n",
    "    elif v == \"Series\":\n",
    "        return \"color: #00C010\"\n",
    "    elif v == \"Empty Series\":\n",
    "        return \"color: #BADF03\"\n",
    "    return None\n",
    "    \n",
    "table = results.style.applymap(color, subset=results.columns[:4])"
   ]
  },
  {
   "cell_type": "code",
   "execution_count": 15,
   "id": "31c09344",
   "metadata": {},
   "outputs": [
    {
     "data": {
      "text/html": [
       "<style type=\"text/css\">\n",
       "#T_94322_row0_col0, #T_94322_row0_col1, #T_94322_row0_col2, #T_94322_row0_col3, #T_94322_row9_col0, #T_94322_row9_col1 {\n",
       "  color: #33C8FF;\n",
       "}\n",
       "#T_94322_row1_col0, #T_94322_row1_col1, #T_94322_row1_col2, #T_94322_row1_col3, #T_94322_row3_col0, #T_94322_row3_col1, #T_94322_row3_col2, #T_94322_row3_col3, #T_94322_row5_col0, #T_94322_row5_col1, #T_94322_row5_col2, #T_94322_row5_col3, #T_94322_row7_col0, #T_94322_row7_col2, #T_94322_row8_col0, #T_94322_row8_col2, #T_94322_row11_col2, #T_94322_row12_col2, #T_94322_row14_col0, #T_94322_row14_col1, #T_94322_row14_col2, #T_94322_row14_col3 {\n",
       "  color: #FF3333;\n",
       "}\n",
       "#T_94322_row2_col0, #T_94322_row2_col1, #T_94322_row2_col2, #T_94322_row2_col3, #T_94322_row4_col0, #T_94322_row4_col1, #T_94322_row4_col2, #T_94322_row4_col3, #T_94322_row6_col0, #T_94322_row6_col1, #T_94322_row6_col2, #T_94322_row6_col3, #T_94322_row9_col2, #T_94322_row9_col3, #T_94322_row10_col0, #T_94322_row10_col1, #T_94322_row10_col2, #T_94322_row10_col3, #T_94322_row11_col1, #T_94322_row11_col3, #T_94322_row12_col0, #T_94322_row13_col0, #T_94322_row13_col1, #T_94322_row13_col2, #T_94322_row13_col3 {\n",
       "  color: #00C010;\n",
       "}\n",
       "#T_94322_row7_col1, #T_94322_row7_col3, #T_94322_row8_col1, #T_94322_row8_col3, #T_94322_row11_col0, #T_94322_row12_col1, #T_94322_row12_col3 {\n",
       "  color: #BADF03;\n",
       "}\n",
       "</style>\n",
       "<table id=\"T_94322_\">\n",
       "  <thead>\n",
       "    <tr>\n",
       "      <th class=\"index_name level0\" >Index Properties</th>\n",
       "      <th class=\"col_heading level0 col0\" >Unique Unsorted<br>[\"a\",\"c\",\"b\",\"d\"]</th>\n",
       "      <th class=\"col_heading level0 col1\" >Unique Monotonic<br>[\"a\",\"b\",\"c\",\"d\"]</th>\n",
       "      <th class=\"col_heading level0 col2\" >Duplicated Unsorted<br>[\"a\",\"b\",\"c\",\"b\"]</th>\n",
       "      <th class=\"col_heading level0 col3\" >Duplicated Monotonic<br>[\"a\",\"b\",\"b\",\"d\"]</th>\n",
       "      <th class=\"col_heading level0 col4\" >description</th>\n",
       "    </tr>\n",
       "    <tr>\n",
       "      <th class=\"index_name level0\" >series.loc[{}]</th>\n",
       "      <th class=\"blank col0\" >&nbsp;</th>\n",
       "      <th class=\"blank col1\" >&nbsp;</th>\n",
       "      <th class=\"blank col2\" >&nbsp;</th>\n",
       "      <th class=\"blank col3\" >&nbsp;</th>\n",
       "      <th class=\"blank col4\" >&nbsp;</th>\n",
       "    </tr>\n",
       "  </thead>\n",
       "  <tbody>\n",
       "    <tr>\n",
       "      <th id=\"T_94322_level0_row0\" class=\"row_heading level0 row0\" >'a'</th>\n",
       "      <td id=\"T_94322_row0_col0\" class=\"data row0 col0\" >int64</td>\n",
       "      <td id=\"T_94322_row0_col1\" class=\"data row0 col1\" >int64</td>\n",
       "      <td id=\"T_94322_row0_col2\" class=\"data row0 col2\" >int64</td>\n",
       "      <td id=\"T_94322_row0_col3\" class=\"data row0 col3\" >int64</td>\n",
       "      <td id=\"T_94322_row0_col4\" class=\"data row0 col4\" >single valid, unique key</td>\n",
       "    </tr>\n",
       "    <tr>\n",
       "      <th id=\"T_94322_level0_row1\" class=\"row_heading level0 row1\" >'!'</th>\n",
       "      <td id=\"T_94322_row1_col0\" class=\"data row1 col0\" >KeyError</td>\n",
       "      <td id=\"T_94322_row1_col1\" class=\"data row1 col1\" >KeyError</td>\n",
       "      <td id=\"T_94322_row1_col2\" class=\"data row1 col2\" >KeyError</td>\n",
       "      <td id=\"T_94322_row1_col3\" class=\"data row1 col3\" >KeyError</td>\n",
       "      <td id=\"T_94322_row1_col4\" class=\"data row1 col4\" >single invalid key</td>\n",
       "    </tr>\n",
       "    <tr>\n",
       "      <th id=\"T_94322_level0_row2\" class=\"row_heading level0 row2\" >['a']</th>\n",
       "      <td id=\"T_94322_row2_col0\" class=\"data row2 col0\" >Series</td>\n",
       "      <td id=\"T_94322_row2_col1\" class=\"data row2 col1\" >Series</td>\n",
       "      <td id=\"T_94322_row2_col2\" class=\"data row2 col2\" >Series</td>\n",
       "      <td id=\"T_94322_row2_col3\" class=\"data row2 col3\" >Series</td>\n",
       "      <td id=\"T_94322_row2_col4\" class=\"data row2 col4\" >single valid, unique key as a list of valid keys</td>\n",
       "    </tr>\n",
       "    <tr>\n",
       "      <th id=\"T_94322_level0_row3\" class=\"row_heading level0 row3\" >['!']</th>\n",
       "      <td id=\"T_94322_row3_col0\" class=\"data row3 col0\" >KeyError</td>\n",
       "      <td id=\"T_94322_row3_col1\" class=\"data row3 col1\" >KeyError</td>\n",
       "      <td id=\"T_94322_row3_col2\" class=\"data row3 col2\" >KeyError</td>\n",
       "      <td id=\"T_94322_row3_col3\" class=\"data row3 col3\" >KeyError</td>\n",
       "      <td id=\"T_94322_row3_col4\" class=\"data row3 col4\" >single invalid key as a list of invalid keys</td>\n",
       "    </tr>\n",
       "    <tr>\n",
       "      <th id=\"T_94322_level0_row4\" class=\"row_heading level0 row4\" >['a','c']</th>\n",
       "      <td id=\"T_94322_row4_col0\" class=\"data row4 col0\" >Series</td>\n",
       "      <td id=\"T_94322_row4_col1\" class=\"data row4 col1\" >Series</td>\n",
       "      <td id=\"T_94322_row4_col2\" class=\"data row4 col2\" >Series</td>\n",
       "      <td id=\"T_94322_row4_col3\" class=\"data row4 col3\" >Series</td>\n",
       "      <td id=\"T_94322_row4_col4\" class=\"data row4 col4\" >list of valid, unique keys</td>\n",
       "    </tr>\n",
       "    <tr>\n",
       "      <th id=\"T_94322_level0_row5\" class=\"row_heading level0 row5\" >['a','!']</th>\n",
       "      <td id=\"T_94322_row5_col0\" class=\"data row5 col0\" >KeyError</td>\n",
       "      <td id=\"T_94322_row5_col1\" class=\"data row5 col1\" >KeyError</td>\n",
       "      <td id=\"T_94322_row5_col2\" class=\"data row5 col2\" >KeyError</td>\n",
       "      <td id=\"T_94322_row5_col3\" class=\"data row5 col3\" >KeyError</td>\n",
       "      <td id=\"T_94322_row5_col4\" class=\"data row5 col4\" >list containing at least one invalid keys</td>\n",
       "    </tr>\n",
       "    <tr>\n",
       "      <th id=\"T_94322_level0_row6\" class=\"row_heading level0 row6\" >ix['a':'c']</th>\n",
       "      <td id=\"T_94322_row6_col0\" class=\"data row6 col0\" >Series</td>\n",
       "      <td id=\"T_94322_row6_col1\" class=\"data row6 col1\" >Series</td>\n",
       "      <td id=\"T_94322_row6_col2\" class=\"data row6 col2\" >Series</td>\n",
       "      <td id=\"T_94322_row6_col3\" class=\"data row6 col3\" >Series</td>\n",
       "      <td id=\"T_94322_row6_col4\" class=\"data row6 col4\" >Slice with valid, unique keys</td>\n",
       "    </tr>\n",
       "    <tr>\n",
       "      <th id=\"T_94322_level0_row7\" class=\"row_heading level0 row7\" >ix['a':'!']</th>\n",
       "      <td id=\"T_94322_row7_col0\" class=\"data row7 col0\" >KeyError</td>\n",
       "      <td id=\"T_94322_row7_col1\" class=\"data row7 col1\" >Empty Series</td>\n",
       "      <td id=\"T_94322_row7_col2\" class=\"data row7 col2\" >KeyError</td>\n",
       "      <td id=\"T_94322_row7_col3\" class=\"data row7 col3\" >Empty Series</td>\n",
       "      <td id=\"T_94322_row7_col4\" class=\"data row7 col4\" >Slice with at least one invalid slice key</td>\n",
       "    </tr>\n",
       "    <tr>\n",
       "      <th id=\"T_94322_level0_row8\" class=\"row_heading level0 row8\" >ix['!':'!!']</th>\n",
       "      <td id=\"T_94322_row8_col0\" class=\"data row8 col0\" >KeyError</td>\n",
       "      <td id=\"T_94322_row8_col1\" class=\"data row8 col1\" >Empty Series</td>\n",
       "      <td id=\"T_94322_row8_col2\" class=\"data row8 col2\" >KeyError</td>\n",
       "      <td id=\"T_94322_row8_col3\" class=\"data row8 col3\" >Empty Series</td>\n",
       "      <td id=\"T_94322_row8_col4\" class=\"data row8 col4\" >Slice with two invalid slice keys</td>\n",
       "    </tr>\n",
       "    <tr>\n",
       "      <th id=\"T_94322_level0_row9\" class=\"row_heading level0 row9\" >'b'</th>\n",
       "      <td id=\"T_94322_row9_col0\" class=\"data row9 col0\" >int64</td>\n",
       "      <td id=\"T_94322_row9_col1\" class=\"data row9 col1\" >int64</td>\n",
       "      <td id=\"T_94322_row9_col2\" class=\"data row9 col2\" >Series</td>\n",
       "      <td id=\"T_94322_row9_col3\" class=\"data row9 col3\" >Series</td>\n",
       "      <td id=\"T_94322_row9_col4\" class=\"data row9 col4\" >Single valid, duplicated key (in duplicated Index)</td>\n",
       "    </tr>\n",
       "    <tr>\n",
       "      <th id=\"T_94322_level0_row10\" class=\"row_heading level0 row10\" >['b']</th>\n",
       "      <td id=\"T_94322_row10_col0\" class=\"data row10 col0\" >Series</td>\n",
       "      <td id=\"T_94322_row10_col1\" class=\"data row10 col1\" >Series</td>\n",
       "      <td id=\"T_94322_row10_col2\" class=\"data row10 col2\" >Series</td>\n",
       "      <td id=\"T_94322_row10_col3\" class=\"data row10 col3\" >Series</td>\n",
       "      <td id=\"T_94322_row10_col4\" class=\"data row10 col4\" >Single valid, duplicated key as a list</td>\n",
       "    </tr>\n",
       "    <tr>\n",
       "      <th id=\"T_94322_level0_row11\" class=\"row_heading level0 row11\" >ix['b':'c']</th>\n",
       "      <td id=\"T_94322_row11_col0\" class=\"data row11 col0\" >Empty Series</td>\n",
       "      <td id=\"T_94322_row11_col1\" class=\"data row11 col1\" >Series</td>\n",
       "      <td id=\"T_94322_row11_col2\" class=\"data row11 col2\" >KeyError</td>\n",
       "      <td id=\"T_94322_row11_col3\" class=\"data row11 col3\" >Series</td>\n",
       "      <td id=\"T_94322_row11_col4\" class=\"data row11 col4\" >Slice with valid, duplicated keys</td>\n",
       "    </tr>\n",
       "    <tr>\n",
       "      <th id=\"T_94322_level0_row12\" class=\"row_heading level0 row12\" >ix['c':'b']</th>\n",
       "      <td id=\"T_94322_row12_col0\" class=\"data row12 col0\" >Series</td>\n",
       "      <td id=\"T_94322_row12_col1\" class=\"data row12 col1\" >Empty Series</td>\n",
       "      <td id=\"T_94322_row12_col2\" class=\"data row12 col2\" >KeyError</td>\n",
       "      <td id=\"T_94322_row12_col3\" class=\"data row12 col3\" >Empty Series</td>\n",
       "      <td id=\"T_94322_row12_col4\" class=\"data row12 col4\" >Slice with valid, duplicated keys reversed</td>\n",
       "    </tr>\n",
       "    <tr>\n",
       "      <th id=\"T_94322_level0_row13\" class=\"row_heading level0 row13\" >[True, True, False, False]</th>\n",
       "      <td id=\"T_94322_row13_col0\" class=\"data row13 col0\" >Series</td>\n",
       "      <td id=\"T_94322_row13_col1\" class=\"data row13 col1\" >Series</td>\n",
       "      <td id=\"T_94322_row13_col2\" class=\"data row13 col2\" >Series</td>\n",
       "      <td id=\"T_94322_row13_col3\" class=\"data row13 col3\" >Series</td>\n",
       "      <td id=\"T_94322_row13_col4\" class=\"data row13 col4\" >Boolean indexer of right length</td>\n",
       "    </tr>\n",
       "    <tr>\n",
       "      <th id=\"T_94322_level0_row14\" class=\"row_heading level0 row14\" >[True, False]</th>\n",
       "      <td id=\"T_94322_row14_col0\" class=\"data row14 col0\" >IndexError</td>\n",
       "      <td id=\"T_94322_row14_col1\" class=\"data row14 col1\" >IndexError</td>\n",
       "      <td id=\"T_94322_row14_col2\" class=\"data row14 col2\" >IndexError</td>\n",
       "      <td id=\"T_94322_row14_col3\" class=\"data row14 col3\" >IndexError</td>\n",
       "      <td id=\"T_94322_row14_col4\" class=\"data row14 col4\" >Boolean indexer of wrong length</td>\n",
       "    </tr>\n",
       "  </tbody>\n",
       "</table>\n"
      ],
      "text/plain": [
       "<pandas.io.formats.style.Styler at 0x11a06d490>"
      ]
     },
     "execution_count": 15,
     "metadata": {},
     "output_type": "execute_result"
    }
   ],
   "source": [
    "table"
   ]
  },
  {
   "cell_type": "markdown",
   "id": "619ed1be",
   "metadata": {},
   "source": [
    "The example above shows that when there are multiple values to be returned, or a pattern that usually returns multiple values (such as a list of a single key: `['a']`), the result is a `Series`. However, the `Series` can collapse to a `Scalar` when a single `key` is given.\n",
    "\n",
    "`KeyError` results when a `key` that does not exist in the `Index` is provided either as a single value or part of a list.\n",
    "\n",
    "### Avoiding KeyErrors\n",
    "\n",
    "Knowledge of which keys constitute an index may not always be known in some dynamic instances, particulary if aggregating data from a variety of different sources.\n",
    "\n",
    "We can compare the `.loc` return to an alternative indexing function, `.reindex`, which is a method which only accepts a list of `keys`. There are no `KeyErrors` returned in this case, but the `.reindex` function cannot be used on duplicated indexes, so results in a `ValueError` instead for all cases.\n",
    "\n",
    "For an index, reindexing also results in `NaN` values being added to the output for non-existent keys."
   ]
  },
  {
   "cell_type": "code",
   "execution_count": 16,
   "id": "d4da146a",
   "metadata": {},
   "outputs": [
    {
     "data": {
      "text/plain": [
       "a    1.0\n",
       "b    2.0\n",
       "c    3.0\n",
       "!    NaN\n",
       "Name: example, dtype: float64"
      ]
     },
     "execution_count": 16,
     "metadata": {},
     "output_type": "execute_result"
    }
   ],
   "source": [
    "ser.reindex([\"a\", \"b\", \"c\", \"!\"])"
   ]
  },
  {
   "cell_type": "code",
   "execution_count": 17,
   "id": "94006664",
   "metadata": {
    "nbsphinx": "hidden"
   },
   "outputs": [],
   "source": [
    "# HIDDEN notebook cell\n",
    "\n",
    "cases = [\n",
    "(\"['a']\", \"single valid, unique key as a list of valid keys\"),\n",
    "(\"['!']\", \"single invalid key as a list of invalid keys\"),\n",
    "(\"['a','c']\", \"list of valid, unique keys\"),\n",
    "(\"['a','!']\", \"list containing at least one invalid keys\"),  \n",
    "(\"['b']\", \"Single valid, duplicated key as a list\"),\n",
    "]\n",
    "\n",
    "commands = [f's.reindex({case[0]})' for case in cases]\n",
    "\n",
    "results = DataFrame('', \n",
    "                       index=Index([case[0] for case in cases], name=\"series.reindex({})\"), \n",
    "                       columns=[index.name for index in indexes]+[\"description\"])\n",
    "results.columns.name = \"Index Properties\"\n",
    "results.loc[:, \"description\"] = [case[1] for case in cases]\n",
    "for j, index in enumerate(indexes):\n",
    "    s = Series([1,2,3,4], index=index)\n",
    "    for i, command in enumerate(commands):\n",
    "        results.iloc[i, j] = do(command)\n",
    "    \n",
    "table = results.style.applymap(color, subset=results.columns[:4])"
   ]
  },
  {
   "cell_type": "code",
   "execution_count": 18,
   "id": "2cd3daa9",
   "metadata": {},
   "outputs": [
    {
     "data": {
      "text/html": [
       "<style type=\"text/css\">\n",
       "#T_1bb9e_row0_col0, #T_1bb9e_row0_col1, #T_1bb9e_row1_col0, #T_1bb9e_row1_col1, #T_1bb9e_row2_col0, #T_1bb9e_row2_col1, #T_1bb9e_row3_col0, #T_1bb9e_row3_col1, #T_1bb9e_row4_col0, #T_1bb9e_row4_col1 {\n",
       "  color: #00C010;\n",
       "}\n",
       "#T_1bb9e_row0_col2, #T_1bb9e_row0_col3, #T_1bb9e_row1_col2, #T_1bb9e_row1_col3, #T_1bb9e_row2_col2, #T_1bb9e_row2_col3, #T_1bb9e_row3_col2, #T_1bb9e_row3_col3, #T_1bb9e_row4_col2, #T_1bb9e_row4_col3 {\n",
       "  color: #FF3333;\n",
       "}\n",
       "</style>\n",
       "<table id=\"T_1bb9e_\">\n",
       "  <thead>\n",
       "    <tr>\n",
       "      <th class=\"index_name level0\" >Index Properties</th>\n",
       "      <th class=\"col_heading level0 col0\" >Unique Unsorted<br>[\"a\",\"c\",\"b\",\"d\"]</th>\n",
       "      <th class=\"col_heading level0 col1\" >Unique Monotonic<br>[\"a\",\"b\",\"c\",\"d\"]</th>\n",
       "      <th class=\"col_heading level0 col2\" >Duplicated Unsorted<br>[\"a\",\"b\",\"c\",\"b\"]</th>\n",
       "      <th class=\"col_heading level0 col3\" >Duplicated Monotonic<br>[\"a\",\"b\",\"b\",\"d\"]</th>\n",
       "      <th class=\"col_heading level0 col4\" >description</th>\n",
       "    </tr>\n",
       "    <tr>\n",
       "      <th class=\"index_name level0\" >series.reindex({})</th>\n",
       "      <th class=\"blank col0\" >&nbsp;</th>\n",
       "      <th class=\"blank col1\" >&nbsp;</th>\n",
       "      <th class=\"blank col2\" >&nbsp;</th>\n",
       "      <th class=\"blank col3\" >&nbsp;</th>\n",
       "      <th class=\"blank col4\" >&nbsp;</th>\n",
       "    </tr>\n",
       "  </thead>\n",
       "  <tbody>\n",
       "    <tr>\n",
       "      <th id=\"T_1bb9e_level0_row0\" class=\"row_heading level0 row0\" >['a']</th>\n",
       "      <td id=\"T_1bb9e_row0_col0\" class=\"data row0 col0\" >Series</td>\n",
       "      <td id=\"T_1bb9e_row0_col1\" class=\"data row0 col1\" >Series</td>\n",
       "      <td id=\"T_1bb9e_row0_col2\" class=\"data row0 col2\" >ValueError</td>\n",
       "      <td id=\"T_1bb9e_row0_col3\" class=\"data row0 col3\" >ValueError</td>\n",
       "      <td id=\"T_1bb9e_row0_col4\" class=\"data row0 col4\" >single valid, unique key as a list of valid keys</td>\n",
       "    </tr>\n",
       "    <tr>\n",
       "      <th id=\"T_1bb9e_level0_row1\" class=\"row_heading level0 row1\" >['!']</th>\n",
       "      <td id=\"T_1bb9e_row1_col0\" class=\"data row1 col0\" >Series</td>\n",
       "      <td id=\"T_1bb9e_row1_col1\" class=\"data row1 col1\" >Series</td>\n",
       "      <td id=\"T_1bb9e_row1_col2\" class=\"data row1 col2\" >ValueError</td>\n",
       "      <td id=\"T_1bb9e_row1_col3\" class=\"data row1 col3\" >ValueError</td>\n",
       "      <td id=\"T_1bb9e_row1_col4\" class=\"data row1 col4\" >single invalid key as a list of invalid keys</td>\n",
       "    </tr>\n",
       "    <tr>\n",
       "      <th id=\"T_1bb9e_level0_row2\" class=\"row_heading level0 row2\" >['a','c']</th>\n",
       "      <td id=\"T_1bb9e_row2_col0\" class=\"data row2 col0\" >Series</td>\n",
       "      <td id=\"T_1bb9e_row2_col1\" class=\"data row2 col1\" >Series</td>\n",
       "      <td id=\"T_1bb9e_row2_col2\" class=\"data row2 col2\" >ValueError</td>\n",
       "      <td id=\"T_1bb9e_row2_col3\" class=\"data row2 col3\" >ValueError</td>\n",
       "      <td id=\"T_1bb9e_row2_col4\" class=\"data row2 col4\" >list of valid, unique keys</td>\n",
       "    </tr>\n",
       "    <tr>\n",
       "      <th id=\"T_1bb9e_level0_row3\" class=\"row_heading level0 row3\" >['a','!']</th>\n",
       "      <td id=\"T_1bb9e_row3_col0\" class=\"data row3 col0\" >Series</td>\n",
       "      <td id=\"T_1bb9e_row3_col1\" class=\"data row3 col1\" >Series</td>\n",
       "      <td id=\"T_1bb9e_row3_col2\" class=\"data row3 col2\" >ValueError</td>\n",
       "      <td id=\"T_1bb9e_row3_col3\" class=\"data row3 col3\" >ValueError</td>\n",
       "      <td id=\"T_1bb9e_row3_col4\" class=\"data row3 col4\" >list containing at least one invalid keys</td>\n",
       "    </tr>\n",
       "    <tr>\n",
       "      <th id=\"T_1bb9e_level0_row4\" class=\"row_heading level0 row4\" >['b']</th>\n",
       "      <td id=\"T_1bb9e_row4_col0\" class=\"data row4 col0\" >Series</td>\n",
       "      <td id=\"T_1bb9e_row4_col1\" class=\"data row4 col1\" >Series</td>\n",
       "      <td id=\"T_1bb9e_row4_col2\" class=\"data row4 col2\" >ValueError</td>\n",
       "      <td id=\"T_1bb9e_row4_col3\" class=\"data row4 col3\" >ValueError</td>\n",
       "      <td id=\"T_1bb9e_row4_col4\" class=\"data row4 col4\" >Single valid, duplicated key as a list</td>\n",
       "    </tr>\n",
       "  </tbody>\n",
       "</table>\n"
      ],
      "text/plain": [
       "<pandas.io.formats.style.Styler at 0x11a06df40>"
      ]
     },
     "execution_count": 18,
     "metadata": {},
     "output_type": "execute_result"
    }
   ],
   "source": [
    "table"
   ]
  },
  {
   "cell_type": "markdown",
   "id": "ffd523c0",
   "metadata": {},
   "source": [
    "Therefore, if we have a `duplicated index`, the only way to avoid errors is to dynamically detect whether a list of `keys` are , or are not, contained within the index and use a boolean indexer. This will not add missing keys with `NaN` values."
   ]
  },
  {
   "cell_type": "code",
   "execution_count": 19,
   "id": "889e39e0",
   "metadata": {},
   "outputs": [
    {
     "data": {
      "text/plain": [
       "a    1\n",
       "b    2\n",
       "b    4\n",
       "dtype: int64"
      ]
     },
     "execution_count": 19,
     "metadata": {},
     "output_type": "execute_result"
    }
   ],
   "source": [
    "ser = Series([1,2,3,4], index=[\"a\", \"b\", \"c\", \"b\"])  # duplicated and unsorted\n",
    "index_keys = [\"a\", \"b\", \"!\"]\n",
    "ser[ser.index.isin(index_keys)]"
   ]
  },
  {
   "cell_type": "markdown",
   "id": "0e42fe79",
   "metadata": {},
   "source": [
    "### Performance and Usage Of Various Indexing Strategies"
   ]
  },
  {
   "cell_type": "markdown",
   "id": "a8a47806",
   "metadata": {},
   "source": [
    "Now we aim to test the different constructions for performance for the purposes of indexing large data. "
   ]
  },
  {
   "cell_type": "code",
   "execution_count": 20,
   "id": "03e8c7bd",
   "metadata": {
    "nbsphinx": "hidden"
   },
   "outputs": [],
   "source": [
    "# HIDDEN notebook cell\n",
    "\n",
    "cases = [\n",
    "(\"s.loc[502]\", \"single valid, unique key\"), \n",
    "(\"s.loc[[502]]\", \"single valid, unique key as a list of valid keys\"),\n",
    "(\"s.loc[[501,502]]\", \"list of valid keys\"),  \n",
    "(\"s.loc[ix[501:502]]\", \"Slice with valid keys\"),\n",
    "(\"s.loc[501]\", \"Single valid, duplicated key (in duplicated Index)\"),\n",
    "(\"s.loc[[501]]\", \"Single valid, duplicated key as a list\"),\n",
    "(\"s.loc[bool_indexer]\", \"Boolean indexer of right length\"),\n",
    "(\"s.reindex([502])\", \"single valid, unique key as a list of valid keys\"),\n",
    "(\"s.reindex([501,502])\", \"list of valid keys\"), \n",
    "(\"s.reindex([501,502,999])\", \"list of with at least one invalid key\"),\n",
    "(\"s.loc[s.index.isin([502])]\", \"single valid, unique key as a list of valid keys\"),\n",
    "(\"s.loc[s.index.isin([501,502])]\", \"list of valid keys\"), \n",
    "(\"s.loc[s.index.isin([501,502,999])]\", \"list of with at least one invalid key\"),   \n",
    "]\n",
    "\n",
    "commands = [f'{case[0]}' for case in cases]\n",
    "\n",
    "vals = np.arange(500)\n",
    "arrays = [\n",
    "    np.random.choice(vals, size=500, replace=False),\n",
    "    np.random.choice(vals, size=500, replace=False), \n",
    "    np.random.choice(vals, size=500, replace=True),\n",
    "    np.random.choice(vals, size=500, replace=True), \n",
    "]\n",
    "for array in arrays:\n",
    "    array[498] = 501\n",
    "    array[499] = 502\n",
    "arrays[2][497] = 501\n",
    "arrays[3][497] = 501\n",
    "indexes = [\n",
    "    Index(arrays[0], name='Unique Unsorted'),\n",
    "    Index(arrays[1], name='Unique Monotonic').sort_values(),\n",
    "    Index(arrays[2], name='Duplicated Unsorted'),\n",
    "    Index(arrays[3], name='Duplicated Monotonic').sort_values(),\n",
    "]\n",
    "\n",
    "\n",
    "bool_indexer = np.random.choice([True, False], size=500)\n",
    "results = DataFrame('', \n",
    "                       index=Index([case[0] for case in cases], name=\"command\"), \n",
    "                       columns=[index.name for index in indexes]+[\"description\"])\n",
    "results.loc[:, \"description\"] = [case[1] for case in cases]\n",
    "for j, index in enumerate(indexes):\n",
    "    s = Series(np.arange(500), index=index)\n",
    "    for i, command in enumerate(commands):\n",
    "        z = 9e9\n",
    "        for k in range(10):\n",
    "            t = time.perf_counter()\n",
    "            val = do(command)\n",
    "            t = time.perf_counter() - t\n",
    "            z = t if t < z else z\n",
    "        if val == \"KeyError\" or val == \"ValueError\" or val == \"IndexError\":\n",
    "            results.iloc[i, j] = val\n",
    "        else:\n",
    "            results.iloc[i, j] = z * 1000000\n",
    "    \n",
    "table = results.style.format(lambda x: '{:.0f} us'.format(x) if not isinstance(x, str) else x)"
   ]
  },
  {
   "cell_type": "code",
   "execution_count": 21,
   "id": "1091a7f4",
   "metadata": {},
   "outputs": [
    {
     "data": {
      "text/html": [
       "<style type=\"text/css\">\n",
       "</style>\n",
       "<table id=\"T_f8919_\">\n",
       "  <thead>\n",
       "    <tr>\n",
       "      <th class=\"blank level0\" >&nbsp;</th>\n",
       "      <th class=\"col_heading level0 col0\" >Unique Unsorted</th>\n",
       "      <th class=\"col_heading level0 col1\" >Unique Monotonic</th>\n",
       "      <th class=\"col_heading level0 col2\" >Duplicated Unsorted</th>\n",
       "      <th class=\"col_heading level0 col3\" >Duplicated Monotonic</th>\n",
       "      <th class=\"col_heading level0 col4\" >description</th>\n",
       "    </tr>\n",
       "    <tr>\n",
       "      <th class=\"index_name level0\" >command</th>\n",
       "      <th class=\"blank col0\" >&nbsp;</th>\n",
       "      <th class=\"blank col1\" >&nbsp;</th>\n",
       "      <th class=\"blank col2\" >&nbsp;</th>\n",
       "      <th class=\"blank col3\" >&nbsp;</th>\n",
       "      <th class=\"blank col4\" >&nbsp;</th>\n",
       "    </tr>\n",
       "  </thead>\n",
       "  <tbody>\n",
       "    <tr>\n",
       "      <th id=\"T_f8919_level0_row0\" class=\"row_heading level0 row0\" >s.loc[502]</th>\n",
       "      <td id=\"T_f8919_row0_col0\" class=\"data row0 col0\" >32 us</td>\n",
       "      <td id=\"T_f8919_row0_col1\" class=\"data row0 col1\" >30 us</td>\n",
       "      <td id=\"T_f8919_row0_col2\" class=\"data row0 col2\" >49 us</td>\n",
       "      <td id=\"T_f8919_row0_col3\" class=\"data row0 col3\" >38 us</td>\n",
       "      <td id=\"T_f8919_row0_col4\" class=\"data row0 col4\" >single valid, unique key</td>\n",
       "    </tr>\n",
       "    <tr>\n",
       "      <th id=\"T_f8919_level0_row1\" class=\"row_heading level0 row1\" >s.loc[[502]]</th>\n",
       "      <td id=\"T_f8919_row1_col0\" class=\"data row1 col0\" >284 us</td>\n",
       "      <td id=\"T_f8919_row1_col1\" class=\"data row1 col1\" >288 us</td>\n",
       "      <td id=\"T_f8919_row1_col2\" class=\"data row1 col2\" >245 us</td>\n",
       "      <td id=\"T_f8919_row1_col3\" class=\"data row1 col3\" >221 us</td>\n",
       "      <td id=\"T_f8919_row1_col4\" class=\"data row1 col4\" >single valid, unique key as a list of valid keys</td>\n",
       "    </tr>\n",
       "    <tr>\n",
       "      <th id=\"T_f8919_level0_row2\" class=\"row_heading level0 row2\" >s.loc[[501,502]]</th>\n",
       "      <td id=\"T_f8919_row2_col0\" class=\"data row2 col0\" >287 us</td>\n",
       "      <td id=\"T_f8919_row2_col1\" class=\"data row2 col1\" >287 us</td>\n",
       "      <td id=\"T_f8919_row2_col2\" class=\"data row2 col2\" >248 us</td>\n",
       "      <td id=\"T_f8919_row2_col3\" class=\"data row2 col3\" >222 us</td>\n",
       "      <td id=\"T_f8919_row2_col4\" class=\"data row2 col4\" >list of valid keys</td>\n",
       "    </tr>\n",
       "    <tr>\n",
       "      <th id=\"T_f8919_level0_row3\" class=\"row_heading level0 row3\" >s.loc[ix[501:502]]</th>\n",
       "      <td id=\"T_f8919_row3_col0\" class=\"data row3 col0\" >65 us</td>\n",
       "      <td id=\"T_f8919_row3_col1\" class=\"data row3 col1\" >124 us</td>\n",
       "      <td id=\"T_f8919_row3_col2\" class=\"data row3 col2\" >117 us</td>\n",
       "      <td id=\"T_f8919_row3_col3\" class=\"data row3 col3\" >75 us</td>\n",
       "      <td id=\"T_f8919_row3_col4\" class=\"data row3 col4\" >Slice with valid keys</td>\n",
       "    </tr>\n",
       "    <tr>\n",
       "      <th id=\"T_f8919_level0_row4\" class=\"row_heading level0 row4\" >s.loc[501]</th>\n",
       "      <td id=\"T_f8919_row4_col0\" class=\"data row4 col0\" >33 us</td>\n",
       "      <td id=\"T_f8919_row4_col1\" class=\"data row4 col1\" >33 us</td>\n",
       "      <td id=\"T_f8919_row4_col2\" class=\"data row4 col2\" >126 us</td>\n",
       "      <td id=\"T_f8919_row4_col3\" class=\"data row4 col3\" >83 us</td>\n",
       "      <td id=\"T_f8919_row4_col4\" class=\"data row4 col4\" >Single valid, duplicated key (in duplicated Index)</td>\n",
       "    </tr>\n",
       "    <tr>\n",
       "      <th id=\"T_f8919_level0_row5\" class=\"row_heading level0 row5\" >s.loc[[501]]</th>\n",
       "      <td id=\"T_f8919_row5_col0\" class=\"data row5 col0\" >319 us</td>\n",
       "      <td id=\"T_f8919_row5_col1\" class=\"data row5 col1\" >302 us</td>\n",
       "      <td id=\"T_f8919_row5_col2\" class=\"data row5 col2\" >256 us</td>\n",
       "      <td id=\"T_f8919_row5_col3\" class=\"data row5 col3\" >216 us</td>\n",
       "      <td id=\"T_f8919_row5_col4\" class=\"data row5 col4\" >Single valid, duplicated key as a list</td>\n",
       "    </tr>\n",
       "    <tr>\n",
       "      <th id=\"T_f8919_level0_row6\" class=\"row_heading level0 row6\" >s.loc[bool_indexer]</th>\n",
       "      <td id=\"T_f8919_row6_col0\" class=\"data row6 col0\" >125 us</td>\n",
       "      <td id=\"T_f8919_row6_col1\" class=\"data row6 col1\" >102 us</td>\n",
       "      <td id=\"T_f8919_row6_col2\" class=\"data row6 col2\" >96 us</td>\n",
       "      <td id=\"T_f8919_row6_col3\" class=\"data row6 col3\" >119 us</td>\n",
       "      <td id=\"T_f8919_row6_col4\" class=\"data row6 col4\" >Boolean indexer of right length</td>\n",
       "    </tr>\n",
       "    <tr>\n",
       "      <th id=\"T_f8919_level0_row7\" class=\"row_heading level0 row7\" >s.reindex([502])</th>\n",
       "      <td id=\"T_f8919_row7_col0\" class=\"data row7 col0\" >280 us</td>\n",
       "      <td id=\"T_f8919_row7_col1\" class=\"data row7 col1\" >265 us</td>\n",
       "      <td id=\"T_f8919_row7_col2\" class=\"data row7 col2\" >ValueError</td>\n",
       "      <td id=\"T_f8919_row7_col3\" class=\"data row7 col3\" >ValueError</td>\n",
       "      <td id=\"T_f8919_row7_col4\" class=\"data row7 col4\" >single valid, unique key as a list of valid keys</td>\n",
       "    </tr>\n",
       "    <tr>\n",
       "      <th id=\"T_f8919_level0_row8\" class=\"row_heading level0 row8\" >s.reindex([501,502])</th>\n",
       "      <td id=\"T_f8919_row8_col0\" class=\"data row8 col0\" >325 us</td>\n",
       "      <td id=\"T_f8919_row8_col1\" class=\"data row8 col1\" >265 us</td>\n",
       "      <td id=\"T_f8919_row8_col2\" class=\"data row8 col2\" >ValueError</td>\n",
       "      <td id=\"T_f8919_row8_col3\" class=\"data row8 col3\" >ValueError</td>\n",
       "      <td id=\"T_f8919_row8_col4\" class=\"data row8 col4\" >list of valid keys</td>\n",
       "    </tr>\n",
       "    <tr>\n",
       "      <th id=\"T_f8919_level0_row9\" class=\"row_heading level0 row9\" >s.reindex([501,502,999])</th>\n",
       "      <td id=\"T_f8919_row9_col0\" class=\"data row9 col0\" >309 us</td>\n",
       "      <td id=\"T_f8919_row9_col1\" class=\"data row9 col1\" >276 us</td>\n",
       "      <td id=\"T_f8919_row9_col2\" class=\"data row9 col2\" >ValueError</td>\n",
       "      <td id=\"T_f8919_row9_col3\" class=\"data row9 col3\" >ValueError</td>\n",
       "      <td id=\"T_f8919_row9_col4\" class=\"data row9 col4\" >list of with at least one invalid key</td>\n",
       "    </tr>\n",
       "    <tr>\n",
       "      <th id=\"T_f8919_level0_row10\" class=\"row_heading level0 row10\" >s.loc[s.index.isin([502])]</th>\n",
       "      <td id=\"T_f8919_row10_col0\" class=\"data row10 col0\" >221 us</td>\n",
       "      <td id=\"T_f8919_row10_col1\" class=\"data row10 col1\" >190 us</td>\n",
       "      <td id=\"T_f8919_row10_col2\" class=\"data row10 col2\" >175 us</td>\n",
       "      <td id=\"T_f8919_row10_col3\" class=\"data row10 col3\" >169 us</td>\n",
       "      <td id=\"T_f8919_row10_col4\" class=\"data row10 col4\" >single valid, unique key as a list of valid keys</td>\n",
       "    </tr>\n",
       "    <tr>\n",
       "      <th id=\"T_f8919_level0_row11\" class=\"row_heading level0 row11\" >s.loc[s.index.isin([501,502])]</th>\n",
       "      <td id=\"T_f8919_row11_col0\" class=\"data row11 col0\" >175 us</td>\n",
       "      <td id=\"T_f8919_row11_col1\" class=\"data row11 col1\" >173 us</td>\n",
       "      <td id=\"T_f8919_row11_col2\" class=\"data row11 col2\" >182 us</td>\n",
       "      <td id=\"T_f8919_row11_col3\" class=\"data row11 col3\" >172 us</td>\n",
       "      <td id=\"T_f8919_row11_col4\" class=\"data row11 col4\" >list of valid keys</td>\n",
       "    </tr>\n",
       "    <tr>\n",
       "      <th id=\"T_f8919_level0_row12\" class=\"row_heading level0 row12\" >s.loc[s.index.isin([501,502,999])]</th>\n",
       "      <td id=\"T_f8919_row12_col0\" class=\"data row12 col0\" >179 us</td>\n",
       "      <td id=\"T_f8919_row12_col1\" class=\"data row12 col1\" >176 us</td>\n",
       "      <td id=\"T_f8919_row12_col2\" class=\"data row12 col2\" >202 us</td>\n",
       "      <td id=\"T_f8919_row12_col3\" class=\"data row12 col3\" >176 us</td>\n",
       "      <td id=\"T_f8919_row12_col4\" class=\"data row12 col4\" >list of with at least one invalid key</td>\n",
       "    </tr>\n",
       "  </tbody>\n",
       "</table>\n"
      ],
      "text/plain": [
       "<pandas.io.formats.style.Styler at 0x118e6a3d0>"
      ]
     },
     "execution_count": 21,
     "metadata": {},
     "output_type": "execute_result"
    }
   ],
   "source": [
    "table"
   ]
  },
  {
   "cell_type": "markdown",
   "id": "0d9fd829",
   "metadata": {},
   "source": [
    "So the performance of either indexing option is not vastly different when to use either depends on the index properties and the intended result of the user."
   ]
  },
  {
   "cell_type": "code",
   "execution_count": 22,
   "id": "7fdf4039",
   "metadata": {},
   "outputs": [
    {
     "data": {
      "text/html": [
       "<style type=\"text/css\">\n",
       "</style>\n",
       "<table id=\"T_7fee2_\">\n",
       "  <thead>\n",
       "    <tr>\n",
       "      <th class=\"blank level0\" >&nbsp;</th>\n",
       "      <th class=\"col_heading level0 col0\" >.loc</th>\n",
       "      <th class=\"col_heading level0 col1\" >.reindex</th>\n",
       "      <th class=\"col_heading level0 col2\" >.isin boolean</th>\n",
       "    </tr>\n",
       "  </thead>\n",
       "  <tbody>\n",
       "    <tr>\n",
       "      <th id=\"T_7fee2_level0_row0\" class=\"row_heading level0 row0\" >Advantages</th>\n",
       "      <td id=\"T_7fee2_row0_col0\" class=\"data row0 col0\" ><ul><li>Flexible input, adaptable output</li><li>Well documented</li></ul></td>\n",
       "      <td id=\"T_7fee2_row0_col1\" class=\"data row0 col1\" ><ul><li>Yields a complete index, with explicit missing data for missing keys</li></ul></td>\n",
       "      <td id=\"T_7fee2_row0_col2\" class=\"data row0 col2\" ><ul><li>Avoids KeyError and does not return missing keys</li></ul></td>\n",
       "    </tr>\n",
       "    <tr>\n",
       "      <th id=\"T_7fee2_level0_row1\" class=\"row_heading level0 row1\" >Disadvantages</th>\n",
       "      <td id=\"T_7fee2_row1_col0\" class=\"data row1 col0\" ><ul><li>KeyErrors for dynamic missing keys</li></ul></td>\n",
       "      <td id=\"T_7fee2_row1_col1\" class=\"data row1 col1\" ><ul><li>Rigid input only allows list of keys</li><li>Rigid output</li></ul></td>\n",
       "      <td id=\"T_7fee2_row1_col2\" class=\"data row1 col2\" ><ul><li>Rigid input only allows list of keys</li><li>Clumsy syntax</li><li>Rigid output</li></ul></td>\n",
       "    </tr>\n",
       "  </tbody>\n",
       "</table>\n"
      ],
      "text/plain": [
       "<pandas.io.formats.style.Styler at 0x11a08ca60>"
      ]
     },
     "execution_count": 22,
     "metadata": {},
     "output_type": "execute_result"
    }
   ],
   "source": [
    "table = DataFrame([\n",
    "    [\"<ul><li>Flexible input, adaptable output</li><li>Well documented</li></ul>\", \n",
    "     \"<ul><li>Yields a complete index, with explicit missing data for missing keys</li></ul>\",\n",
    "     \"<ul><li>Avoids KeyError and does not return missing keys</li></ul>\"],\n",
    "    [\"<ul><li>KeyErrors for dynamic missing keys</li></ul>\",\n",
    "     \"<ul><li>Rigid input only allows list of keys</li><li>Rigid output</li></ul>\",\n",
    "     \"<ul><li>Rigid input only allows list of keys</li><li>Clumsy syntax</li><li>Rigid output</li></ul>\"]\n",
    "], columns=[\".loc\", \".reindex\", \".isin boolean\"], index=[\"Advantages\", \"Disadvantages\"])\n",
    "table.style"
   ]
  },
  {
   "cell_type": "markdown",
   "id": "76c7b1e1",
   "metadata": {},
   "source": [
    "## MultiIndexing\n",
    "\n",
    "Now we will discuss a `MultiIndex`, as opposed to a standard `Index`. With hierarchical, or multiindexing, comes a lot greater functionality, but at the expense of added complexity. For big data the use of multiindexes greatly improves the performance of subselecting data.\n",
    "\n",
    "### What is a MultiIndex?\n",
    "\n",
    "A `MultiIndex` is the same as an `Index` in that it is a **sequence** of `keys`. Again those keys may be unique or duplicated and monotonic or unsorted, just like the properties of a single index.\n",
    "\n",
    "The difference is that each key has multiple `level_values` that comprise it. For example `(\"Mark\", \"September\")` is a key in a multiindex whose two levels are made up of (first names, birth month)."
   ]
  },
  {
   "cell_type": "code",
   "execution_count": 23,
   "id": "f246c83e",
   "metadata": {},
   "outputs": [
    {
     "data": {
      "text/plain": [
       "MultiIndex([('Jane',      'June'),\n",
       "            ('Mark', 'September'),\n",
       "            ('Jane',     'April')],\n",
       "           names=['name', 'birth'])"
      ]
     },
     "execution_count": 23,
     "metadata": {},
     "output_type": "execute_result"
    }
   ],
   "source": [
    "midx = MultiIndex.from_tuples([(\"Jane\", \"June\"), (\"Mark\", \"September\"), (\"Jane\", \"April\")], names=[\"name\", \"birth\"])\n",
    "midx"
   ]
  },
  {
   "cell_type": "markdown",
   "id": "ef9af45d",
   "metadata": {},
   "source": [
    "This multiindex is currently unique, since no key is repeated but it is unsorted. We can fix that now if necessary."
   ]
  },
  {
   "cell_type": "code",
   "execution_count": 24,
   "id": "ee500e07",
   "metadata": {},
   "outputs": [
    {
     "data": {
      "text/plain": [
       "MultiIndex([('Jane',     'April'),\n",
       "            ('Jane',      'June'),\n",
       "            ('Mark', 'September')],\n",
       "           names=['name', 'birth'])"
      ]
     },
     "execution_count": 24,
     "metadata": {},
     "output_type": "execute_result"
    }
   ],
   "source": [
    "midx.sort_values()"
   ]
  },
  {
   "cell_type": "markdown",
   "id": "6d4ad48e",
   "metadata": {},
   "source": [
    "In pandas there are 3 ways to create `MultIndex` objects.\n",
    "\n",
    "#### MultiIndex.from_tuples\n",
    "\n",
    "This is the way we have used above. An explicit list of tuples as keys, each with exactly the same number of elements corresponding to the number of levels, is provided. \n",
    "\n",
    "#### MultiIndex.from_array\n",
    "\n",
    "This uses multiple arrays of the same length, each corresponding to a level, and zips corresponding elements together. This is the type of aggregation used if one were to create an index from multiple columns in a DataFrame, for example."
   ]
  },
  {
   "cell_type": "code",
   "execution_count": 25,
   "id": "fc1f47c3",
   "metadata": {},
   "outputs": [
    {
     "data": {
      "text/plain": [
       "MultiIndex([('Mark', 'September'),\n",
       "            ('Jane',      'June'),\n",
       "            ('Jane',     'April')],\n",
       "           names=['name', 'birth'])"
      ]
     },
     "execution_count": 25,
     "metadata": {},
     "output_type": "execute_result"
    }
   ],
   "source": [
    "MultiIndex.from_arrays([[\"Mark\", \"Jane\", \"Jane\"], [\"September\", \"June\", \"April\"]], names=[\"name\", \"birth\"])"
   ]
  },
  {
   "cell_type": "markdown",
   "id": "632b1c85",
   "metadata": {},
   "source": [
    "#### MultiIndex.from_product\n",
    "\n",
    "This uses multiple arrays and performs a Cartesian product, $Array1 \\times Array2$, to reveal all combinations. In some circumstances this is warranted, but for large numbers of levels and elements this may produce too many combinations to be computationally feasible. Even in our small example it results in 3 unuseful entries."
   ]
  },
  {
   "cell_type": "code",
   "execution_count": 26,
   "id": "c819931c",
   "metadata": {},
   "outputs": [
    {
     "data": {
      "text/plain": [
       "MultiIndex([('Mark', 'September'),\n",
       "            ('Mark',      'June'),\n",
       "            ('Mark',     'April'),\n",
       "            ('Jane', 'September'),\n",
       "            ('Jane',      'June'),\n",
       "            ('Jane',     'April')],\n",
       "           names=['name', 'birth'])"
      ]
     },
     "execution_count": 26,
     "metadata": {},
     "output_type": "execute_result"
    }
   ],
   "source": [
    "MultiIndex.from_product([[\"Mark\", \"Jane\"], [\"September\", \"June\", \"April\"]], names=[\"name\", \"birth\"])"
   ]
  },
  {
   "cell_type": "markdown",
   "id": "b0263493",
   "metadata": {},
   "source": [
    "Once we have our MultiIndex we can interrogate its individual levels. For example we can see which unique elements are present in each level, and we can also get the associated ordering of those elements measured over the MultiIndex (where they may be duplicated, e.g. \"Jane\")."
   ]
  },
  {
   "cell_type": "code",
   "execution_count": 27,
   "id": "a571af27",
   "metadata": {},
   "outputs": [
    {
     "name": "stdout",
     "output_type": "stream",
     "text": [
      "Level 0 Elements:  Index(['Jane', 'Mark'], dtype='object', name='name')\n",
      "Level 1 Elements:  Index(['April', 'June', 'September'], dtype='object', name='birth')\n",
      "Level 0 Ordered Values:  Index(['Jane', 'Mark', 'Jane'], dtype='object', name='name')\n",
      "Level 1 Ordered Values:  Index(['June', 'September', 'April'], dtype='object', name='birth')\n"
     ]
    }
   ],
   "source": [
    "print(\"Level 0 Elements: \", midx.levels[0])\n",
    "print(\"Level 1 Elements: \", midx.levels[1])\n",
    "print(\"Level 0 Ordered Values: \", midx.get_level_values(0))\n",
    "print(\"Level 1 Ordered Values: \", midx.get_level_values(1))"
   ]
  },
  {
   "cell_type": "markdown",
   "id": "ac787065",
   "metadata": {},
   "source": [
    "We can also `reindex` a level of a MultiIndex but this does not add any new keys to the MultiIndex. For example:"
   ]
  },
  {
   "cell_type": "code",
   "execution_count": 28,
   "id": "a400cb69",
   "metadata": {},
   "outputs": [
    {
     "data": {
      "text/plain": [
       "MultiIndex([('Jane',      'June'),\n",
       "            ('Jane',     'April'),\n",
       "            ('Mark', 'September')],\n",
       "           names=['name', 'birth'])"
      ]
     },
     "execution_count": 28,
     "metadata": {},
     "output_type": "execute_result"
    }
   ],
   "source": [
    "midx = midx.reindex([\"Jane\", \"Mark\", \"Michael\"], level=0)[0]\n",
    "midx"
   ]
  },
  {
   "cell_type": "markdown",
   "id": "b2a8d37d",
   "metadata": {},
   "source": [
    "But if we interrogate the unique values present for level0 then \"Michael\" has been added as a new component. It has essentially become an `unused_level_value` where it is present as a value within the level elements but is **not present** in any key combination."
   ]
  },
  {
   "cell_type": "code",
   "execution_count": 29,
   "id": "1131e448",
   "metadata": {},
   "outputs": [
    {
     "name": "stdout",
     "output_type": "stream",
     "text": [
      "Level 0 New Elements:  Index(['Jane', 'Mark', 'Michael'], dtype='object', name='name')\n"
     ]
    }
   ],
   "source": [
    "print(\"Level 0 New Elements: \", midx.levels[0])"
   ]
  },
  {
   "cell_type": "markdown",
   "id": "55004e8a",
   "metadata": {},
   "source": [
    "### Summarising Terminolgy for a MultiIndex\n",
    "\n",
    " - `MultiIndex` is a sequence of `Keys`.\n",
    " - `Key` is a tuple containing valid hashable types for each `Level` of the tuple, e.g. (\"Jane\", \"April\").\n",
    " - `Level` refers to a subcomponent of a `Key` based on the 1st, 2nd tuple index, etc.\n",
    " - `Level Elements` are the unique values of a specific `Level` which may (or may not) be part of any single `Key` in the `MultiIndex`. If it is part of a `Key` it is a `Used Level Element` otherwise it is an `Unused Level Element`.\n",
    " - `Level Values`  are the sequence of `Used Level Elements` that form the part of the sequence of `Keys` in the `MultiIndex`\n",
    " \n",
    " Why is it important to define any of these terms? Becuase to know how to construct, reindex and select the data efficiently and dynamically it is useful to know the composition structure of MultiIndexes.\n",
    " \n",
    "Since MultiIndex keys are composed of level elements this gives rise to combinations which may or may not be a key in the MultiIndex."
   ]
  },
  {
   "cell_type": "code",
   "execution_count": 30,
   "id": "887ca34f",
   "metadata": {},
   "outputs": [],
   "source": [
    "result = DataFrame([\n",
    "    [\"Maybe a Key\", \"Never be a Key\", \"Erroneous Key\"],\n",
    "    [\"Never be a Key\", \"Never be a Key\", \"Errorneous Key\"],\n",
    "    [\"Erroneous Key\", \"Erroneous Key\", \"Erroneous Key\"]\n",
    "], columns=[\"Used\", \"Unused\", \"Erroneous\"], index=[\"Used\", \"Unused\", \"Erroneous\"])\n",
    "result.index.name = \"Level 0 Element\"\n",
    "result.columns.name = \"Level 1 Element\"\n",
    "table = result.style"
   ]
  },
  {
   "cell_type": "code",
   "execution_count": 31,
   "id": "c7d22ecd",
   "metadata": {},
   "outputs": [
    {
     "data": {
      "text/html": [
       "<style type=\"text/css\">\n",
       "</style>\n",
       "<table id=\"T_b1cd7_\">\n",
       "  <thead>\n",
       "    <tr>\n",
       "      <th class=\"index_name level0\" >Level 1 Element</th>\n",
       "      <th class=\"col_heading level0 col0\" >Used</th>\n",
       "      <th class=\"col_heading level0 col1\" >Unused</th>\n",
       "      <th class=\"col_heading level0 col2\" >Erroneous</th>\n",
       "    </tr>\n",
       "    <tr>\n",
       "      <th class=\"index_name level0\" >Level 0 Element</th>\n",
       "      <th class=\"blank col0\" >&nbsp;</th>\n",
       "      <th class=\"blank col1\" >&nbsp;</th>\n",
       "      <th class=\"blank col2\" >&nbsp;</th>\n",
       "    </tr>\n",
       "  </thead>\n",
       "  <tbody>\n",
       "    <tr>\n",
       "      <th id=\"T_b1cd7_level0_row0\" class=\"row_heading level0 row0\" >Used</th>\n",
       "      <td id=\"T_b1cd7_row0_col0\" class=\"data row0 col0\" >Maybe a Key</td>\n",
       "      <td id=\"T_b1cd7_row0_col1\" class=\"data row0 col1\" >Never be a Key</td>\n",
       "      <td id=\"T_b1cd7_row0_col2\" class=\"data row0 col2\" >Erroneous Key</td>\n",
       "    </tr>\n",
       "    <tr>\n",
       "      <th id=\"T_b1cd7_level0_row1\" class=\"row_heading level0 row1\" >Unused</th>\n",
       "      <td id=\"T_b1cd7_row1_col0\" class=\"data row1 col0\" >Never be a Key</td>\n",
       "      <td id=\"T_b1cd7_row1_col1\" class=\"data row1 col1\" >Never be a Key</td>\n",
       "      <td id=\"T_b1cd7_row1_col2\" class=\"data row1 col2\" >Errorneous Key</td>\n",
       "    </tr>\n",
       "    <tr>\n",
       "      <th id=\"T_b1cd7_level0_row2\" class=\"row_heading level0 row2\" >Erroneous</th>\n",
       "      <td id=\"T_b1cd7_row2_col0\" class=\"data row2 col0\" >Erroneous Key</td>\n",
       "      <td id=\"T_b1cd7_row2_col1\" class=\"data row2 col1\" >Erroneous Key</td>\n",
       "      <td id=\"T_b1cd7_row2_col2\" class=\"data row2 col2\" >Erroneous Key</td>\n",
       "    </tr>\n",
       "  </tbody>\n",
       "</table>\n"
      ],
      "text/plain": [
       "<pandas.io.formats.style.Styler at 0x119ffadc0>"
      ]
     },
     "execution_count": 31,
     "metadata": {},
     "output_type": "execute_result"
    }
   ],
   "source": [
    "table"
   ]
  },
  {
   "cell_type": "markdown",
   "id": "84400364",
   "metadata": {},
   "source": [
    "Even when both level0 and level1 elements are used, unless the index is a full Cartesian product of the level elements (which is a rare case) there will most likely be cases where two used level elements combine to result in a key that is not present in the index, for example `(\"Jane\", \"September)` or `(\"Mark\", \"April)`. Whereas we can know for sure that `(\"Sheena\",\"April\")` is not a key since `\"Sheena\"` is an erroneous level0 element, and furthermore, even though `\"Michael\"` may have been added to the level0 elements it is still usused so we are also sure it will not produce a valid key."
   ]
  },
  {
   "cell_type": "markdown",
   "id": "ec0ee9ae",
   "metadata": {},
   "source": [
    "## Subselecting Keys in an Index Using .loc\n",
    "\n",
    "Similar to an `Index`. There are different input formats to use in .loc which will result in different output formats.\n",
    "\n",
    " - A single explicit key, which may be unique or duplicated: ser.loc[(\"Jane\", \"June\")]\n",
    " - A list of explicit keys, again these may be unique or duplicated: ser.loc[[(\"Jane\", \"June\"), (\"Jane\", \"April\")]]\n",
    " - A Python slice (which may fail for unsorted and/or duplicated indexes): ser.loc[slice((\"Jane\", \"April\"), (\"Jane\",    \"June\")], or equivalently an IndexSlice which provides some syntactic sugar: ser.loc[IndexSlice[(\"Jane\", \"April\"):(\"Jane\", \"June\")]]\n",
    " - A colon, ':', which is syntactic sugar for a none slice along a whole axis and returns all values: ser.loc[:]\n",
    " - A boolean array-like of the same length of the index determining presence in the output: ser.loc[[True, True, False]]\n",
    "\n",
    "When indexing a MultiIndex there is also the ability to subselect via specific levels:\n",
    "\n",
    " - By providing an explicit level element: ser.loc[(slice(None), \"April\")]\n",
    " - By providing a list of level elements: ser.loc[(slice(None), [\"April\", \"September\"])]\n",
    " - By providing either a python or IndexSlice: ser.loc[(slice(None), IndexSlice[\"April\":\"September\"])]\n",
    " - In combination with a boolean indexer: ser.loc[(\"Jane\", [True, False, True])]\n",
    "\n",
    "In our example above the leading levels where no indexing is performed must be identified by `slice(None)`. However, for a MultiIndex with many levels, any missing levels will be inferred to be `slice(None)` if not explicitly identified. For example `ser.loc[\"Jane\"]` is equivalent to `ser.loc[(\"Jane\", slice(None))]`."
   ]
  },
  {
   "cell_type": "code",
   "execution_count": 32,
   "id": "e2fd1bc3",
   "metadata": {},
   "outputs": [
    {
     "name": "stderr",
     "output_type": "stream",
     "text": [
      "<ipython-input-14-d323a95a38ca>:6: PerformanceWarning: indexing past lexsort depth may impact performance.\n",
      "  exec(f'global ret; ret={command}', globals())\n"
     ]
    }
   ],
   "source": [
    "indexes = [\n",
    "    MultiIndex.from_tuples(names=['Unique Levels Unsorted', None],\n",
    "        tuples=[('a', 0), ('c', 2), ('b', 1), ('d', 3)], ),\n",
    "    MultiIndex.from_tuples(names=['Unique Index Unsorted', None],\n",
    "        tuples=[('a', 0), ('b', 1), ('c', 2), ('b', 3)], ),\n",
    "    MultiIndex.from_tuples(names=['Unique Levels Monotonic', None],\n",
    "        tuples=[('a', 0), ('c', 2), ('b', 1), ('d', 3)], ).sort_values(),\n",
    "    MultiIndex.from_tuples(names=['Unique Index Monotonic', None],\n",
    "        tuples=[('a', 0), ('b', 1), ('c', 2), ('b', 3)], ).sort_values(),\n",
    "    MultiIndex.from_tuples(names=['Duplicated Unsorted', None],\n",
    "        tuples=[('a', 0), ('b', 1), ('c', 2), ('b', 1)], ),\n",
    "    MultiIndex.from_tuples(names=['Duplicated Monotonic', None],\n",
    "        tuples=[('a', 0), ('b', 1), ('c', 2), ('b', 1)], ).sort_values(),\n",
    "]\n",
    "\n",
    "\n",
    "cases = [\n",
    "(\"('a',0)\", \"single valid, unique key\"),\n",
    "(\"('!',0)\", \"single invalid key\"), \n",
    "(\"[('a',0)]\", \"single valid, unique key as a list of valid keys\"),\n",
    "(\"[('!',0)]\", \"single invalid key as a list of invalid keys\"),\n",
    "(\"[('a',0),('c',2)]\", \"list of valid, unique keys\"),\n",
    "(\"[('a',0),('!',0)]\", \"list containing at least one invalid keys\"),  \n",
    "(\"ix[('a',0):('c',2)]\", \"Slice with valid, unique keys\"),\n",
    "(\"ix[('a',0):('!',0)]\", \"Slice with at least one invalid slice key\"),\n",
    "(\"ix[('!',0):('!',2)]\", \"Slice with two invalid slice keys\"),\n",
    "(\"('b',1)\", \"Single valid, duplicated key (in duplicated Index)\"),\n",
    "(\"[('b',1)]\", \"Single valid, duplicated key as a list\"),\n",
    "(\"ix[('b',1):('c',2)]\", \"Slice with valid, duplicated keys\"),\n",
    "(\"ix[('c',2):('b',1)]\", \"Slice with valid, duplicated keys reversed\"),\n",
    "(\"[True, True, False, False]\", \"Boolean indexer of right length\"),\n",
    "(\"[True, False]\", \"Boolean indexer of wrong length\")\n",
    "]\n",
    "\n",
    "commands = [f's.loc[{case[0]}]' for case in cases]\n",
    "\n",
    "results = DataFrame('', \n",
    "                       index=Index([case[0] for case in cases], name=\"series.loc[{}]\"), \n",
    "                       columns=[index.names[0] for index in indexes]+[\"description\"])\n",
    "results.columns.name = \"Index Properties\"\n",
    "results.loc[:, \"description\"] = [case[1] for case in cases]\n",
    "for j, index in enumerate(indexes):\n",
    "    s = Series([1,2,3,4], index=index)\n",
    "    for i, command in enumerate(commands):\n",
    "        results.iloc[i, j] = do(command)\n",
    "        \n",
    "table = results.style.applymap(color, subset=results.columns[:6])"
   ]
  },
  {
   "cell_type": "code",
   "execution_count": 33,
   "id": "3a22b937",
   "metadata": {},
   "outputs": [
    {
     "data": {
      "text/html": [
       "<style type=\"text/css\">\n",
       "#T_c5421_row0_col0, #T_c5421_row0_col1, #T_c5421_row0_col2, #T_c5421_row0_col3, #T_c5421_row9_col0, #T_c5421_row9_col1, #T_c5421_row9_col2, #T_c5421_row9_col3 {\n",
       "  color: #33C8FF;\n",
       "}\n",
       "#T_c5421_row0_col4, #T_c5421_row0_col5, #T_c5421_row2_col0, #T_c5421_row2_col1, #T_c5421_row2_col2, #T_c5421_row2_col3, #T_c5421_row2_col4, #T_c5421_row2_col5, #T_c5421_row4_col0, #T_c5421_row4_col1, #T_c5421_row4_col2, #T_c5421_row4_col3, #T_c5421_row4_col4, #T_c5421_row4_col5, #T_c5421_row6_col2, #T_c5421_row6_col3, #T_c5421_row6_col5, #T_c5421_row9_col4, #T_c5421_row9_col5, #T_c5421_row10_col0, #T_c5421_row10_col1, #T_c5421_row10_col2, #T_c5421_row10_col3, #T_c5421_row10_col4, #T_c5421_row10_col5, #T_c5421_row11_col2, #T_c5421_row11_col3, #T_c5421_row11_col5, #T_c5421_row13_col0, #T_c5421_row13_col1, #T_c5421_row13_col2, #T_c5421_row13_col3, #T_c5421_row13_col4, #T_c5421_row13_col5 {\n",
       "  color: #00C010;\n",
       "}\n",
       "#T_c5421_row1_col0, #T_c5421_row1_col1, #T_c5421_row1_col2, #T_c5421_row1_col3, #T_c5421_row1_col4, #T_c5421_row1_col5, #T_c5421_row3_col0, #T_c5421_row3_col1, #T_c5421_row3_col2, #T_c5421_row3_col3, #T_c5421_row3_col4, #T_c5421_row3_col5, #T_c5421_row5_col0, #T_c5421_row5_col1, #T_c5421_row5_col2, #T_c5421_row5_col3, #T_c5421_row5_col4, #T_c5421_row5_col5, #T_c5421_row6_col0, #T_c5421_row6_col1, #T_c5421_row6_col4, #T_c5421_row7_col0, #T_c5421_row7_col1, #T_c5421_row7_col4, #T_c5421_row8_col0, #T_c5421_row8_col1, #T_c5421_row8_col4, #T_c5421_row11_col0, #T_c5421_row11_col1, #T_c5421_row11_col4, #T_c5421_row12_col0, #T_c5421_row12_col1, #T_c5421_row12_col4, #T_c5421_row14_col0, #T_c5421_row14_col1, #T_c5421_row14_col2, #T_c5421_row14_col3, #T_c5421_row14_col4, #T_c5421_row14_col5 {\n",
       "  color: #FF3333;\n",
       "}\n",
       "#T_c5421_row7_col2, #T_c5421_row7_col3, #T_c5421_row7_col5, #T_c5421_row8_col2, #T_c5421_row8_col3, #T_c5421_row8_col5, #T_c5421_row12_col2, #T_c5421_row12_col3, #T_c5421_row12_col5 {\n",
       "  color: #BADF03;\n",
       "}\n",
       "</style>\n",
       "<table id=\"T_c5421_\">\n",
       "  <thead>\n",
       "    <tr>\n",
       "      <th class=\"index_name level0\" >Index Properties</th>\n",
       "      <th class=\"col_heading level0 col0\" >Unique Levels Unsorted</th>\n",
       "      <th class=\"col_heading level0 col1\" >Unique Index Unsorted</th>\n",
       "      <th class=\"col_heading level0 col2\" >Unique Levels Monotonic</th>\n",
       "      <th class=\"col_heading level0 col3\" >Unique Index Monotonic</th>\n",
       "      <th class=\"col_heading level0 col4\" >Duplicated Unsorted</th>\n",
       "      <th class=\"col_heading level0 col5\" >Duplicated Monotonic</th>\n",
       "      <th class=\"col_heading level0 col6\" >description</th>\n",
       "    </tr>\n",
       "    <tr>\n",
       "      <th class=\"index_name level0\" >series.loc[{}]</th>\n",
       "      <th class=\"blank col0\" >&nbsp;</th>\n",
       "      <th class=\"blank col1\" >&nbsp;</th>\n",
       "      <th class=\"blank col2\" >&nbsp;</th>\n",
       "      <th class=\"blank col3\" >&nbsp;</th>\n",
       "      <th class=\"blank col4\" >&nbsp;</th>\n",
       "      <th class=\"blank col5\" >&nbsp;</th>\n",
       "      <th class=\"blank col6\" >&nbsp;</th>\n",
       "    </tr>\n",
       "  </thead>\n",
       "  <tbody>\n",
       "    <tr>\n",
       "      <th id=\"T_c5421_level0_row0\" class=\"row_heading level0 row0\" >('a',0)</th>\n",
       "      <td id=\"T_c5421_row0_col0\" class=\"data row0 col0\" >int64</td>\n",
       "      <td id=\"T_c5421_row0_col1\" class=\"data row0 col1\" >int64</td>\n",
       "      <td id=\"T_c5421_row0_col2\" class=\"data row0 col2\" >int64</td>\n",
       "      <td id=\"T_c5421_row0_col3\" class=\"data row0 col3\" >int64</td>\n",
       "      <td id=\"T_c5421_row0_col4\" class=\"data row0 col4\" >Series</td>\n",
       "      <td id=\"T_c5421_row0_col5\" class=\"data row0 col5\" >Series</td>\n",
       "      <td id=\"T_c5421_row0_col6\" class=\"data row0 col6\" >single valid, unique key</td>\n",
       "    </tr>\n",
       "    <tr>\n",
       "      <th id=\"T_c5421_level0_row1\" class=\"row_heading level0 row1\" >('!',0)</th>\n",
       "      <td id=\"T_c5421_row1_col0\" class=\"data row1 col0\" >KeyError</td>\n",
       "      <td id=\"T_c5421_row1_col1\" class=\"data row1 col1\" >KeyError</td>\n",
       "      <td id=\"T_c5421_row1_col2\" class=\"data row1 col2\" >KeyError</td>\n",
       "      <td id=\"T_c5421_row1_col3\" class=\"data row1 col3\" >KeyError</td>\n",
       "      <td id=\"T_c5421_row1_col4\" class=\"data row1 col4\" >KeyError</td>\n",
       "      <td id=\"T_c5421_row1_col5\" class=\"data row1 col5\" >KeyError</td>\n",
       "      <td id=\"T_c5421_row1_col6\" class=\"data row1 col6\" >single invalid key</td>\n",
       "    </tr>\n",
       "    <tr>\n",
       "      <th id=\"T_c5421_level0_row2\" class=\"row_heading level0 row2\" >[('a',0)]</th>\n",
       "      <td id=\"T_c5421_row2_col0\" class=\"data row2 col0\" >Series</td>\n",
       "      <td id=\"T_c5421_row2_col1\" class=\"data row2 col1\" >Series</td>\n",
       "      <td id=\"T_c5421_row2_col2\" class=\"data row2 col2\" >Series</td>\n",
       "      <td id=\"T_c5421_row2_col3\" class=\"data row2 col3\" >Series</td>\n",
       "      <td id=\"T_c5421_row2_col4\" class=\"data row2 col4\" >Series</td>\n",
       "      <td id=\"T_c5421_row2_col5\" class=\"data row2 col5\" >Series</td>\n",
       "      <td id=\"T_c5421_row2_col6\" class=\"data row2 col6\" >single valid, unique key as a list of valid keys</td>\n",
       "    </tr>\n",
       "    <tr>\n",
       "      <th id=\"T_c5421_level0_row3\" class=\"row_heading level0 row3\" >[('!',0)]</th>\n",
       "      <td id=\"T_c5421_row3_col0\" class=\"data row3 col0\" >KeyError</td>\n",
       "      <td id=\"T_c5421_row3_col1\" class=\"data row3 col1\" >KeyError</td>\n",
       "      <td id=\"T_c5421_row3_col2\" class=\"data row3 col2\" >KeyError</td>\n",
       "      <td id=\"T_c5421_row3_col3\" class=\"data row3 col3\" >KeyError</td>\n",
       "      <td id=\"T_c5421_row3_col4\" class=\"data row3 col4\" >KeyError</td>\n",
       "      <td id=\"T_c5421_row3_col5\" class=\"data row3 col5\" >KeyError</td>\n",
       "      <td id=\"T_c5421_row3_col6\" class=\"data row3 col6\" >single invalid key as a list of invalid keys</td>\n",
       "    </tr>\n",
       "    <tr>\n",
       "      <th id=\"T_c5421_level0_row4\" class=\"row_heading level0 row4\" >[('a',0),('c',2)]</th>\n",
       "      <td id=\"T_c5421_row4_col0\" class=\"data row4 col0\" >Series</td>\n",
       "      <td id=\"T_c5421_row4_col1\" class=\"data row4 col1\" >Series</td>\n",
       "      <td id=\"T_c5421_row4_col2\" class=\"data row4 col2\" >Series</td>\n",
       "      <td id=\"T_c5421_row4_col3\" class=\"data row4 col3\" >Series</td>\n",
       "      <td id=\"T_c5421_row4_col4\" class=\"data row4 col4\" >Series</td>\n",
       "      <td id=\"T_c5421_row4_col5\" class=\"data row4 col5\" >Series</td>\n",
       "      <td id=\"T_c5421_row4_col6\" class=\"data row4 col6\" >list of valid, unique keys</td>\n",
       "    </tr>\n",
       "    <tr>\n",
       "      <th id=\"T_c5421_level0_row5\" class=\"row_heading level0 row5\" >[('a',0),('!',0)]</th>\n",
       "      <td id=\"T_c5421_row5_col0\" class=\"data row5 col0\" >KeyError</td>\n",
       "      <td id=\"T_c5421_row5_col1\" class=\"data row5 col1\" >KeyError</td>\n",
       "      <td id=\"T_c5421_row5_col2\" class=\"data row5 col2\" >KeyError</td>\n",
       "      <td id=\"T_c5421_row5_col3\" class=\"data row5 col3\" >KeyError</td>\n",
       "      <td id=\"T_c5421_row5_col4\" class=\"data row5 col4\" >KeyError</td>\n",
       "      <td id=\"T_c5421_row5_col5\" class=\"data row5 col5\" >KeyError</td>\n",
       "      <td id=\"T_c5421_row5_col6\" class=\"data row5 col6\" >list containing at least one invalid keys</td>\n",
       "    </tr>\n",
       "    <tr>\n",
       "      <th id=\"T_c5421_level0_row6\" class=\"row_heading level0 row6\" >ix[('a',0):('c',2)]</th>\n",
       "      <td id=\"T_c5421_row6_col0\" class=\"data row6 col0\" >KeyError</td>\n",
       "      <td id=\"T_c5421_row6_col1\" class=\"data row6 col1\" >KeyError</td>\n",
       "      <td id=\"T_c5421_row6_col2\" class=\"data row6 col2\" >Series</td>\n",
       "      <td id=\"T_c5421_row6_col3\" class=\"data row6 col3\" >Series</td>\n",
       "      <td id=\"T_c5421_row6_col4\" class=\"data row6 col4\" >KeyError</td>\n",
       "      <td id=\"T_c5421_row6_col5\" class=\"data row6 col5\" >Series</td>\n",
       "      <td id=\"T_c5421_row6_col6\" class=\"data row6 col6\" >Slice with valid, unique keys</td>\n",
       "    </tr>\n",
       "    <tr>\n",
       "      <th id=\"T_c5421_level0_row7\" class=\"row_heading level0 row7\" >ix[('a',0):('!',0)]</th>\n",
       "      <td id=\"T_c5421_row7_col0\" class=\"data row7 col0\" >KeyError</td>\n",
       "      <td id=\"T_c5421_row7_col1\" class=\"data row7 col1\" >KeyError</td>\n",
       "      <td id=\"T_c5421_row7_col2\" class=\"data row7 col2\" >Empty Series</td>\n",
       "      <td id=\"T_c5421_row7_col3\" class=\"data row7 col3\" >Empty Series</td>\n",
       "      <td id=\"T_c5421_row7_col4\" class=\"data row7 col4\" >KeyError</td>\n",
       "      <td id=\"T_c5421_row7_col5\" class=\"data row7 col5\" >Empty Series</td>\n",
       "      <td id=\"T_c5421_row7_col6\" class=\"data row7 col6\" >Slice with at least one invalid slice key</td>\n",
       "    </tr>\n",
       "    <tr>\n",
       "      <th id=\"T_c5421_level0_row8\" class=\"row_heading level0 row8\" >ix[('!',0):('!',2)]</th>\n",
       "      <td id=\"T_c5421_row8_col0\" class=\"data row8 col0\" >KeyError</td>\n",
       "      <td id=\"T_c5421_row8_col1\" class=\"data row8 col1\" >KeyError</td>\n",
       "      <td id=\"T_c5421_row8_col2\" class=\"data row8 col2\" >Empty Series</td>\n",
       "      <td id=\"T_c5421_row8_col3\" class=\"data row8 col3\" >Empty Series</td>\n",
       "      <td id=\"T_c5421_row8_col4\" class=\"data row8 col4\" >KeyError</td>\n",
       "      <td id=\"T_c5421_row8_col5\" class=\"data row8 col5\" >Empty Series</td>\n",
       "      <td id=\"T_c5421_row8_col6\" class=\"data row8 col6\" >Slice with two invalid slice keys</td>\n",
       "    </tr>\n",
       "    <tr>\n",
       "      <th id=\"T_c5421_level0_row9\" class=\"row_heading level0 row9\" >('b',1)</th>\n",
       "      <td id=\"T_c5421_row9_col0\" class=\"data row9 col0\" >int64</td>\n",
       "      <td id=\"T_c5421_row9_col1\" class=\"data row9 col1\" >int64</td>\n",
       "      <td id=\"T_c5421_row9_col2\" class=\"data row9 col2\" >int64</td>\n",
       "      <td id=\"T_c5421_row9_col3\" class=\"data row9 col3\" >int64</td>\n",
       "      <td id=\"T_c5421_row9_col4\" class=\"data row9 col4\" >Series</td>\n",
       "      <td id=\"T_c5421_row9_col5\" class=\"data row9 col5\" >Series</td>\n",
       "      <td id=\"T_c5421_row9_col6\" class=\"data row9 col6\" >Single valid, duplicated key (in duplicated Index)</td>\n",
       "    </tr>\n",
       "    <tr>\n",
       "      <th id=\"T_c5421_level0_row10\" class=\"row_heading level0 row10\" >[('b',1)]</th>\n",
       "      <td id=\"T_c5421_row10_col0\" class=\"data row10 col0\" >Series</td>\n",
       "      <td id=\"T_c5421_row10_col1\" class=\"data row10 col1\" >Series</td>\n",
       "      <td id=\"T_c5421_row10_col2\" class=\"data row10 col2\" >Series</td>\n",
       "      <td id=\"T_c5421_row10_col3\" class=\"data row10 col3\" >Series</td>\n",
       "      <td id=\"T_c5421_row10_col4\" class=\"data row10 col4\" >Series</td>\n",
       "      <td id=\"T_c5421_row10_col5\" class=\"data row10 col5\" >Series</td>\n",
       "      <td id=\"T_c5421_row10_col6\" class=\"data row10 col6\" >Single valid, duplicated key as a list</td>\n",
       "    </tr>\n",
       "    <tr>\n",
       "      <th id=\"T_c5421_level0_row11\" class=\"row_heading level0 row11\" >ix[('b',1):('c',2)]</th>\n",
       "      <td id=\"T_c5421_row11_col0\" class=\"data row11 col0\" >KeyError</td>\n",
       "      <td id=\"T_c5421_row11_col1\" class=\"data row11 col1\" >KeyError</td>\n",
       "      <td id=\"T_c5421_row11_col2\" class=\"data row11 col2\" >Series</td>\n",
       "      <td id=\"T_c5421_row11_col3\" class=\"data row11 col3\" >Series</td>\n",
       "      <td id=\"T_c5421_row11_col4\" class=\"data row11 col4\" >KeyError</td>\n",
       "      <td id=\"T_c5421_row11_col5\" class=\"data row11 col5\" >Series</td>\n",
       "      <td id=\"T_c5421_row11_col6\" class=\"data row11 col6\" >Slice with valid, duplicated keys</td>\n",
       "    </tr>\n",
       "    <tr>\n",
       "      <th id=\"T_c5421_level0_row12\" class=\"row_heading level0 row12\" >ix[('c',2):('b',1)]</th>\n",
       "      <td id=\"T_c5421_row12_col0\" class=\"data row12 col0\" >KeyError</td>\n",
       "      <td id=\"T_c5421_row12_col1\" class=\"data row12 col1\" >KeyError</td>\n",
       "      <td id=\"T_c5421_row12_col2\" class=\"data row12 col2\" >Empty Series</td>\n",
       "      <td id=\"T_c5421_row12_col3\" class=\"data row12 col3\" >Empty Series</td>\n",
       "      <td id=\"T_c5421_row12_col4\" class=\"data row12 col4\" >KeyError</td>\n",
       "      <td id=\"T_c5421_row12_col5\" class=\"data row12 col5\" >Empty Series</td>\n",
       "      <td id=\"T_c5421_row12_col6\" class=\"data row12 col6\" >Slice with valid, duplicated keys reversed</td>\n",
       "    </tr>\n",
       "    <tr>\n",
       "      <th id=\"T_c5421_level0_row13\" class=\"row_heading level0 row13\" >[True, True, False, False]</th>\n",
       "      <td id=\"T_c5421_row13_col0\" class=\"data row13 col0\" >Series</td>\n",
       "      <td id=\"T_c5421_row13_col1\" class=\"data row13 col1\" >Series</td>\n",
       "      <td id=\"T_c5421_row13_col2\" class=\"data row13 col2\" >Series</td>\n",
       "      <td id=\"T_c5421_row13_col3\" class=\"data row13 col3\" >Series</td>\n",
       "      <td id=\"T_c5421_row13_col4\" class=\"data row13 col4\" >Series</td>\n",
       "      <td id=\"T_c5421_row13_col5\" class=\"data row13 col5\" >Series</td>\n",
       "      <td id=\"T_c5421_row13_col6\" class=\"data row13 col6\" >Boolean indexer of right length</td>\n",
       "    </tr>\n",
       "    <tr>\n",
       "      <th id=\"T_c5421_level0_row14\" class=\"row_heading level0 row14\" >[True, False]</th>\n",
       "      <td id=\"T_c5421_row14_col0\" class=\"data row14 col0\" >IndexError</td>\n",
       "      <td id=\"T_c5421_row14_col1\" class=\"data row14 col1\" >IndexError</td>\n",
       "      <td id=\"T_c5421_row14_col2\" class=\"data row14 col2\" >IndexError</td>\n",
       "      <td id=\"T_c5421_row14_col3\" class=\"data row14 col3\" >IndexError</td>\n",
       "      <td id=\"T_c5421_row14_col4\" class=\"data row14 col4\" >IndexError</td>\n",
       "      <td id=\"T_c5421_row14_col5\" class=\"data row14 col5\" >IndexError</td>\n",
       "      <td id=\"T_c5421_row14_col6\" class=\"data row14 col6\" >Boolean indexer of wrong length</td>\n",
       "    </tr>\n",
       "  </tbody>\n",
       "</table>\n"
      ],
      "text/plain": [
       "<pandas.io.formats.style.Styler at 0x11a0c8910>"
      ]
     },
     "execution_count": 33,
     "metadata": {},
     "output_type": "execute_result"
    }
   ],
   "source": [
    "table"
   ]
  },
  {
   "cell_type": "code",
   "execution_count": 34,
   "id": "b54b1195",
   "metadata": {},
   "outputs": [],
   "source": [
    "# HIDDEN cell\n",
    "\n",
    "A = [\"d\", \"b\", \"c\", \"a\"]\n",
    "B = [\"a\", \"b\", \"c\", \"b\"]\n",
    "\n",
    "# zip(A,A) = unique index with unique level elements\n",
    "# zip(A,B) = unique index with duplicated level elements\n",
    "# zip(B,B) = duplicated index with duplicated level elements\n",
    "\n",
    "indexes = [\n",
    "    MultiIndex.from_arrays(names=['Unique Levels Unsorted', None],\n",
    "        arrays=[A, A]),\n",
    "    MultiIndex.from_arrays(names=['Unique Index Unsorted', None],\n",
    "        arrays=[A, B]),\n",
    "    MultiIndex.from_arrays(names=['Unique Levels Monotonic', None],\n",
    "        arrays=[A, A]).sort_values(),\n",
    "    MultiIndex.from_arrays(names=['Unique Index Monotonic', None],\n",
    "        arrays=[A, B]).sort_values(),\n",
    "    MultiIndex.from_arrays(names=['Duplicated Unsorted', None],\n",
    "        arrays=[B, B]),\n",
    "    MultiIndex.from_arrays(names=['Duplicated Monotonic', None],\n",
    "        arrays=[B, B]).sort_values(),\n",
    "]\n",
    "\n",
    "\n",
    "cases = [\n",
    "# (\"slice(None)\", \"None Slice\", \"A\"),\n",
    "# (\"'a'\", \"single valid, unique key\", \"B\"),\n",
    "# (\"'!'\", \"single invalid key\", \"C\"), # Always gives KeyError\n",
    "(\"['a']\", \"single valid, unique key as a list of valid keys\", \"D\"),\n",
    "(\"['!']\", \"single invalid key as a list of invalid keys\", \"E\"),\n",
    "# (\"['a','c']\", \"list of valid, unique keys\", \"F\"),\n",
    "(\"['a','!']\", \"list containing at least one invalid keys\", \"G\"),  \n",
    "# (\"ix['a':'c']\", \"Slice with valid, unique keys\", \"H\"),\n",
    "# (\"ix['a':'!']\", \"Slice with at least one invalid slice key\", \"I\"),\n",
    "# (\"ix['!':'!!']\", \"Slice with two invalid slice keys\", \"J\"),\n",
    "# (\"'b'\", \"Single valid, duplicated key (in duplicated Index)\", \"K\"),\n",
    "# (\"['b']\", \"Single valid, duplicated key as a list\", \"L\"),\n",
    "# (\"ix['b':'c']\", \"Slice with valid, duplicated keys\", \"M\"),\n",
    "# (\"ix['c':'b']\", \"Slice with valid, duplicated keys reversed\", \"N\"),\n",
    "(\"[True, True, False, False]\", \"Boolean indexer of right length\", \"O\"),\n",
    "(\"[True, False, True, False]\", \"Boolean indexer of right length (diff)\", \"P\"),\n",
    "# (\"[True, False]\", \"Boolean indexer of wrong length\", \"Q\")  # Always gives ValueError\n",
    "]\n",
    "\n",
    "cases2 = [\n",
    "(\"slice(None)\", \"None Slice\", \"A\"),\n",
    "# (\"'a'\", \"single valid, unique key\", \"B\"),\n",
    "# # (\"'!'\", \"single invalid key\", \"C\"), # Always gives KeyError\n",
    "# (\"['a']\", \"single valid, unique key as a list of valid keys\", \"D\"),\n",
    "# (\"['!']\", \"single invalid key as a list of invalid keys\", \"E\"),\n",
    "# (\"['a','c']\", \"list of valid, unique keys\", \"F\"),\n",
    "(\"['a','!']\", \"list containing at least one invalid keys\", \"G\"),  \n",
    "# (\"ix['a':'c']\", \"Slice with valid, unique keys\", \"H\"),\n",
    "# (\"ix['a':'!']\", \"Slice with at least one invalid slice key\", \"I\"),\n",
    "# (\"ix['!':'!!']\", \"Slice with two invalid slice keys\", \"J\"),\n",
    "# (\"'b'\", \"Single valid, duplicated key (in duplicated Index)\", \"K\"),\n",
    "# (\"['b']\", \"Single valid, duplicated key as a list\", \"L\"),\n",
    "# (\"ix['b':'c']\", \"Slice with valid, duplicated keys\", \"M\"),\n",
    "# (\"ix['c':'b']\", \"Slice with valid, duplicated keys reversed\", \"N\"),\n",
    "# (\"[True, True, False, False]\", \"Boolean indexer of right length\", \"O\"),\n",
    "# (\"[True, False, True, False]\", \"Boolean indexer of right length (diff)\", \"P\"),\n",
    "# (\"[True, False]\", \"Boolean indexer of wrong length\", \"Q\")  # Always gives ValueError\n",
    "]\n",
    "\n",
    "commands = []\n",
    "labels = []\n",
    "codes = []\n",
    "for l0_case in cases:\n",
    "    for l1_case in cases2:\n",
    "        labels.append(f\"({l0_case[0]}, {l1_case[0]})\")\n",
    "        codes.append(f\"{l0_case[2]}{l1_case[2]}\")\n",
    "        commands.append(f's.loc[({l0_case[0]}, {l1_case[0]})]')\n",
    "        \n",
    "results = DataFrame('', \n",
    "                       index=Index(labels, name=\"series.loc[{}]\"), \n",
    "                       columns=[index.names[0] for index in indexes])\n",
    "results.columns.name = \"Index Properties\"\n",
    "# results.loc[:, \"description\"] = [case[1] for case in cases]\n",
    "for j, index in enumerate(indexes):\n",
    "    s = Series([1,2,3,4], index=index)\n",
    "    for i, command in enumerate(commands):\n",
    "        results.iloc[i, j] = do(command)\n",
    "        \n",
    "def codes_checker(s, match, error):\n",
    "    match_bool = np.array([match in code for code in codes])\n",
    "    error_bool = s == error\n",
    "    return [\"background-color: green\" if x else \"\" for x in (match_bool & error_bool)]\n",
    "    \n",
    "        \n",
    "table = results.style.applymap(color, subset=results.columns[:6])\\\n",
    "               .apply(codes_checker, match=\"C\", error=\"KeyError\") # single invalid should always give KeyError"
   ]
  },
  {
   "cell_type": "code",
   "execution_count": 35,
   "id": "a96cea42",
   "metadata": {
    "scrolled": false
   },
   "outputs": [
    {
     "data": {
      "text/html": [
       "<style type=\"text/css\">\n",
       "#T_7a51a_row0_col0, #T_7a51a_row0_col1, #T_7a51a_row0_col2, #T_7a51a_row0_col3, #T_7a51a_row0_col4, #T_7a51a_row0_col5, #T_7a51a_row1_col0, #T_7a51a_row1_col2, #T_7a51a_row1_col4, #T_7a51a_row1_col5, #T_7a51a_row4_col0, #T_7a51a_row4_col1, #T_7a51a_row4_col2, #T_7a51a_row4_col3, #T_7a51a_row4_col4, #T_7a51a_row4_col5, #T_7a51a_row5_col0, #T_7a51a_row5_col2, #T_7a51a_row5_col4, #T_7a51a_row5_col5, #T_7a51a_row6_col0, #T_7a51a_row6_col1, #T_7a51a_row6_col2, #T_7a51a_row6_col3, #T_7a51a_row6_col4, #T_7a51a_row6_col5, #T_7a51a_row7_col1, #T_7a51a_row7_col2, #T_7a51a_row7_col4, #T_7a51a_row7_col5, #T_7a51a_row8_col0, #T_7a51a_row8_col1, #T_7a51a_row8_col2, #T_7a51a_row8_col3, #T_7a51a_row8_col4, #T_7a51a_row8_col5, #T_7a51a_row9_col1, #T_7a51a_row9_col2, #T_7a51a_row9_col4, #T_7a51a_row9_col5 {\n",
       "  color: #00C010;\n",
       "}\n",
       "#T_7a51a_row1_col1, #T_7a51a_row1_col3, #T_7a51a_row5_col1, #T_7a51a_row5_col3, #T_7a51a_row7_col0, #T_7a51a_row7_col3, #T_7a51a_row9_col0, #T_7a51a_row9_col3 {\n",
       "  color: #FF3333;\n",
       "}\n",
       "#T_7a51a_row2_col0, #T_7a51a_row2_col1, #T_7a51a_row2_col2, #T_7a51a_row2_col3, #T_7a51a_row2_col4, #T_7a51a_row2_col5, #T_7a51a_row3_col0, #T_7a51a_row3_col1, #T_7a51a_row3_col2, #T_7a51a_row3_col3, #T_7a51a_row3_col4, #T_7a51a_row3_col5 {\n",
       "  color: #BADF03;\n",
       "}\n",
       "</style>\n",
       "<table id=\"T_7a51a_\">\n",
       "  <thead>\n",
       "    <tr>\n",
       "      <th class=\"index_name level0\" >Index Properties</th>\n",
       "      <th class=\"col_heading level0 col0\" >Unique Levels Unsorted</th>\n",
       "      <th class=\"col_heading level0 col1\" >Unique Index Unsorted</th>\n",
       "      <th class=\"col_heading level0 col2\" >Unique Levels Monotonic</th>\n",
       "      <th class=\"col_heading level0 col3\" >Unique Index Monotonic</th>\n",
       "      <th class=\"col_heading level0 col4\" >Duplicated Unsorted</th>\n",
       "      <th class=\"col_heading level0 col5\" >Duplicated Monotonic</th>\n",
       "    </tr>\n",
       "    <tr>\n",
       "      <th class=\"index_name level0\" >series.loc[{}]</th>\n",
       "      <th class=\"blank col0\" >&nbsp;</th>\n",
       "      <th class=\"blank col1\" >&nbsp;</th>\n",
       "      <th class=\"blank col2\" >&nbsp;</th>\n",
       "      <th class=\"blank col3\" >&nbsp;</th>\n",
       "      <th class=\"blank col4\" >&nbsp;</th>\n",
       "      <th class=\"blank col5\" >&nbsp;</th>\n",
       "    </tr>\n",
       "  </thead>\n",
       "  <tbody>\n",
       "    <tr>\n",
       "      <th id=\"T_7a51a_level0_row0\" class=\"row_heading level0 row0\" >(['a'], slice(None))</th>\n",
       "      <td id=\"T_7a51a_row0_col0\" class=\"data row0 col0\" >Series</td>\n",
       "      <td id=\"T_7a51a_row0_col1\" class=\"data row0 col1\" >Series</td>\n",
       "      <td id=\"T_7a51a_row0_col2\" class=\"data row0 col2\" >Series</td>\n",
       "      <td id=\"T_7a51a_row0_col3\" class=\"data row0 col3\" >Series</td>\n",
       "      <td id=\"T_7a51a_row0_col4\" class=\"data row0 col4\" >Series</td>\n",
       "      <td id=\"T_7a51a_row0_col5\" class=\"data row0 col5\" >Series</td>\n",
       "    </tr>\n",
       "    <tr>\n",
       "      <th id=\"T_7a51a_level0_row1\" class=\"row_heading level0 row1\" >(['a'], ['a','!'])</th>\n",
       "      <td id=\"T_7a51a_row1_col0\" class=\"data row1 col0\" >Series</td>\n",
       "      <td id=\"T_7a51a_row1_col1\" class=\"data row1 col1\" >KeyError</td>\n",
       "      <td id=\"T_7a51a_row1_col2\" class=\"data row1 col2\" >Series</td>\n",
       "      <td id=\"T_7a51a_row1_col3\" class=\"data row1 col3\" >KeyError</td>\n",
       "      <td id=\"T_7a51a_row1_col4\" class=\"data row1 col4\" >Series</td>\n",
       "      <td id=\"T_7a51a_row1_col5\" class=\"data row1 col5\" >Series</td>\n",
       "    </tr>\n",
       "    <tr>\n",
       "      <th id=\"T_7a51a_level0_row2\" class=\"row_heading level0 row2\" >(['!'], slice(None))</th>\n",
       "      <td id=\"T_7a51a_row2_col0\" class=\"data row2 col0\" >Empty Series</td>\n",
       "      <td id=\"T_7a51a_row2_col1\" class=\"data row2 col1\" >Empty Series</td>\n",
       "      <td id=\"T_7a51a_row2_col2\" class=\"data row2 col2\" >Empty Series</td>\n",
       "      <td id=\"T_7a51a_row2_col3\" class=\"data row2 col3\" >Empty Series</td>\n",
       "      <td id=\"T_7a51a_row2_col4\" class=\"data row2 col4\" >Empty Series</td>\n",
       "      <td id=\"T_7a51a_row2_col5\" class=\"data row2 col5\" >Empty Series</td>\n",
       "    </tr>\n",
       "    <tr>\n",
       "      <th id=\"T_7a51a_level0_row3\" class=\"row_heading level0 row3\" >(['!'], ['a','!'])</th>\n",
       "      <td id=\"T_7a51a_row3_col0\" class=\"data row3 col0\" >Empty Series</td>\n",
       "      <td id=\"T_7a51a_row3_col1\" class=\"data row3 col1\" >Empty Series</td>\n",
       "      <td id=\"T_7a51a_row3_col2\" class=\"data row3 col2\" >Empty Series</td>\n",
       "      <td id=\"T_7a51a_row3_col3\" class=\"data row3 col3\" >Empty Series</td>\n",
       "      <td id=\"T_7a51a_row3_col4\" class=\"data row3 col4\" >Empty Series</td>\n",
       "      <td id=\"T_7a51a_row3_col5\" class=\"data row3 col5\" >Empty Series</td>\n",
       "    </tr>\n",
       "    <tr>\n",
       "      <th id=\"T_7a51a_level0_row4\" class=\"row_heading level0 row4\" >(['a','!'], slice(None))</th>\n",
       "      <td id=\"T_7a51a_row4_col0\" class=\"data row4 col0\" >Series</td>\n",
       "      <td id=\"T_7a51a_row4_col1\" class=\"data row4 col1\" >Series</td>\n",
       "      <td id=\"T_7a51a_row4_col2\" class=\"data row4 col2\" >Series</td>\n",
       "      <td id=\"T_7a51a_row4_col3\" class=\"data row4 col3\" >Series</td>\n",
       "      <td id=\"T_7a51a_row4_col4\" class=\"data row4 col4\" >Series</td>\n",
       "      <td id=\"T_7a51a_row4_col5\" class=\"data row4 col5\" >Series</td>\n",
       "    </tr>\n",
       "    <tr>\n",
       "      <th id=\"T_7a51a_level0_row5\" class=\"row_heading level0 row5\" >(['a','!'], ['a','!'])</th>\n",
       "      <td id=\"T_7a51a_row5_col0\" class=\"data row5 col0\" >Series</td>\n",
       "      <td id=\"T_7a51a_row5_col1\" class=\"data row5 col1\" >KeyError</td>\n",
       "      <td id=\"T_7a51a_row5_col2\" class=\"data row5 col2\" >Series</td>\n",
       "      <td id=\"T_7a51a_row5_col3\" class=\"data row5 col3\" >KeyError</td>\n",
       "      <td id=\"T_7a51a_row5_col4\" class=\"data row5 col4\" >Series</td>\n",
       "      <td id=\"T_7a51a_row5_col5\" class=\"data row5 col5\" >Series</td>\n",
       "    </tr>\n",
       "    <tr>\n",
       "      <th id=\"T_7a51a_level0_row6\" class=\"row_heading level0 row6\" >([True, True, False, False], slice(None))</th>\n",
       "      <td id=\"T_7a51a_row6_col0\" class=\"data row6 col0\" >Series</td>\n",
       "      <td id=\"T_7a51a_row6_col1\" class=\"data row6 col1\" >Series</td>\n",
       "      <td id=\"T_7a51a_row6_col2\" class=\"data row6 col2\" >Series</td>\n",
       "      <td id=\"T_7a51a_row6_col3\" class=\"data row6 col3\" >Series</td>\n",
       "      <td id=\"T_7a51a_row6_col4\" class=\"data row6 col4\" >Series</td>\n",
       "      <td id=\"T_7a51a_row6_col5\" class=\"data row6 col5\" >Series</td>\n",
       "    </tr>\n",
       "    <tr>\n",
       "      <th id=\"T_7a51a_level0_row7\" class=\"row_heading level0 row7\" >([True, True, False, False], ['a','!'])</th>\n",
       "      <td id=\"T_7a51a_row7_col0\" class=\"data row7 col0\" >KeyError</td>\n",
       "      <td id=\"T_7a51a_row7_col1\" class=\"data row7 col1\" >Series</td>\n",
       "      <td id=\"T_7a51a_row7_col2\" class=\"data row7 col2\" >Series</td>\n",
       "      <td id=\"T_7a51a_row7_col3\" class=\"data row7 col3\" >KeyError</td>\n",
       "      <td id=\"T_7a51a_row7_col4\" class=\"data row7 col4\" >Series</td>\n",
       "      <td id=\"T_7a51a_row7_col5\" class=\"data row7 col5\" >Series</td>\n",
       "    </tr>\n",
       "    <tr>\n",
       "      <th id=\"T_7a51a_level0_row8\" class=\"row_heading level0 row8\" >([True, False, True, False], slice(None))</th>\n",
       "      <td id=\"T_7a51a_row8_col0\" class=\"data row8 col0\" >Series</td>\n",
       "      <td id=\"T_7a51a_row8_col1\" class=\"data row8 col1\" >Series</td>\n",
       "      <td id=\"T_7a51a_row8_col2\" class=\"data row8 col2\" >Series</td>\n",
       "      <td id=\"T_7a51a_row8_col3\" class=\"data row8 col3\" >Series</td>\n",
       "      <td id=\"T_7a51a_row8_col4\" class=\"data row8 col4\" >Series</td>\n",
       "      <td id=\"T_7a51a_row8_col5\" class=\"data row8 col5\" >Series</td>\n",
       "    </tr>\n",
       "    <tr>\n",
       "      <th id=\"T_7a51a_level0_row9\" class=\"row_heading level0 row9\" >([True, False, True, False], ['a','!'])</th>\n",
       "      <td id=\"T_7a51a_row9_col0\" class=\"data row9 col0\" >KeyError</td>\n",
       "      <td id=\"T_7a51a_row9_col1\" class=\"data row9 col1\" >Series</td>\n",
       "      <td id=\"T_7a51a_row9_col2\" class=\"data row9 col2\" >Series</td>\n",
       "      <td id=\"T_7a51a_row9_col3\" class=\"data row9 col3\" >KeyError</td>\n",
       "      <td id=\"T_7a51a_row9_col4\" class=\"data row9 col4\" >Series</td>\n",
       "      <td id=\"T_7a51a_row9_col5\" class=\"data row9 col5\" >Series</td>\n",
       "    </tr>\n",
       "  </tbody>\n",
       "</table>\n"
      ],
      "text/plain": [
       "<pandas.io.formats.style.Styler at 0x11a087e80>"
      ]
     },
     "execution_count": 35,
     "metadata": {},
     "output_type": "execute_result"
    }
   ],
   "source": [
    "table"
   ]
  },
  {
   "cell_type": "code",
   "execution_count": null,
   "id": "b0b6fa70",
   "metadata": {},
   "outputs": [],
   "source": []
  }
 ],
 "metadata": {
  "celltoolbar": "Edit Metadata",
  "kernelspec": {
   "display_name": "Python 3",
   "language": "python",
   "name": "python3"
  },
  "language_info": {
   "codemirror_mode": {
    "name": "ipython",
    "version": 3
   },
   "file_extension": ".py",
   "mimetype": "text/x-python",
   "name": "python",
   "nbconvert_exporter": "python",
   "pygments_lexer": "ipython3",
   "version": "3.8.6"
  }
 },
 "nbformat": 4,
 "nbformat_minor": 5
}
